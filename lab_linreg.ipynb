{
  "nbformat": 4,
  "nbformat_minor": 0,
  "metadata": {
    "colab": {
      "name": "lab_linreg.ipynb",
      "version": "0.3.2",
      "provenance": []
    },
    "language_info": {
      "mimetype": "text/x-python",
      "nbconvert_exporter": "python",
      "name": "python",
      "file_extension": ".py",
      "version": "3.6.8",
      "pygments_lexer": "ipython3",
      "codemirror_mode": {
        "version": 3,
        "name": "ipython"
      }
    },
    "kernelspec": {
      "display_name": "Python 3",
      "name": "python3",
      "language": "python"
    }
  },
  "cells": [
    {
      "cell_type": "markdown",
      "metadata": {
        "id": "n42uaPE7Jex_",
        "colab_type": "text"
      },
      "source": [
        "# Linear Regression Multiple Ways"
      ]
    },
    {
      "cell_type": "markdown",
      "metadata": {
        "id": "G5gknS2aJeyL",
        "colab_type": "text"
      },
      "source": [
        "## Making the data\n",
        "\n",
        "We'll first construct a synthetic data set..using a function from the `scikit-learn` library. Synthetic data is nice in the sense that we can constrain how the noise behaves, and thus isolate effects."
      ]
    },
    {
      "cell_type": "code",
      "metadata": {
        "id": "5VSRX9YmJeyQ",
        "colab_type": "code",
        "colab": {}
      },
      "source": [
        "%matplotlib inline\n",
        "from sklearn.datasets import make_regression\n",
        "import numpy as np\n",
        "import matplotlib.pyplot as plt"
      ],
      "execution_count": 0,
      "outputs": []
    },
    {
      "cell_type": "code",
      "metadata": {
        "id": "f5zBqYXsJeyf",
        "colab_type": "code",
        "colab": {}
      },
      "source": [
        "#code adapted from http://tillbergmann.com/blog/python-gradient-descent.html\n",
        "X, y, coef = make_regression(n_samples = 100, \n",
        "                       n_features=1, \n",
        "                       noise=20,\n",
        "                       random_state=2017,\n",
        "                       coef=True)"
      ],
      "execution_count": 0,
      "outputs": []
    },
    {
      "cell_type": "markdown",
      "metadata": {
        "id": "O2JDFsxgJeys",
        "colab_type": "text"
      },
      "source": [
        "Notice that the X is in the canonical array-of-arrays format.\n",
        "**Try and print its shape**"
      ]
    },
    {
      "cell_type": "code",
      "metadata": {
        "id": "NQ_FkZhHJeyw",
        "colab_type": "code",
        "colab": {
          "base_uri": "https://localhost:8080/",
          "height": 34
        },
        "outputId": "51f1a0af-cd5b-422a-957f-85b9d9d8c2a5"
      },
      "source": [
        "y.shape"
      ],
      "execution_count": 10,
      "outputs": [
        {
          "output_type": "execute_result",
          "data": {
            "text/plain": [
              "(100,)"
            ]
          },
          "metadata": {
            "tags": []
          },
          "execution_count": 10
        }
      ]
    },
    {
      "cell_type": "markdown",
      "metadata": {
        "id": "cPmCP5jbJey6",
        "colab_type": "text"
      },
      "source": [
        "We are fitting a model with an intercept. Lets see what it is."
      ]
    },
    {
      "cell_type": "code",
      "metadata": {
        "id": "lyt7c-ykJey9",
        "colab_type": "code",
        "colab": {
          "base_uri": "https://localhost:8080/",
          "height": 34
        },
        "outputId": "b2576bd9-9c48-4051-da53-549e2d93c30f"
      },
      "source": [
        "coef"
      ],
      "execution_count": 11,
      "outputs": [
        {
          "output_type": "execute_result",
          "data": {
            "text/plain": [
              "array(80.88336208)"
            ]
          },
          "metadata": {
            "tags": []
          },
          "execution_count": 11
        }
      ]
    },
    {
      "cell_type": "markdown",
      "metadata": {
        "id": "axRkt-eJJezJ",
        "colab_type": "text"
      },
      "source": [
        "We can plot the data."
      ]
    },
    {
      "cell_type": "code",
      "metadata": {
        "id": "iSDn-K25JezM",
        "colab_type": "code",
        "colab": {
          "base_uri": "https://localhost:8080/",
          "height": 269
        },
        "outputId": "1939eb0a-1c53-49cb-e994-d2d758bb1c15"
      },
      "source": [
        "plt.plot(X,y, 'o');"
      ],
      "execution_count": 12,
      "outputs": [
        {
          "output_type": "display_data",
          "data": {
            "image/png": "[encoded data removed]",
            "text/plain": [
              "<Figure size 432x288 with 1 Axes>"
            ]
          },
          "metadata": {
            "tags": []
          }
        }
      ]
    },
    {
      "cell_type": "markdown",
      "metadata": {
        "id": "DsCa_jqbJezX",
        "colab_type": "text"
      },
      "source": [
        "For the purposes of drawing the regression line, lets create a uniform grid of points, and then reshape it into the canonical format"
      ]
    },
    {
      "cell_type": "code",
      "metadata": {
        "id": "wUFuWBUOJeza",
        "colab_type": "code",
        "colab": {}
      },
      "source": [
        "xgrid = np.linspace(-2.5,2.5,1000)\n",
        "xgrid"
      ],
      "execution_count": 0,
      "outputs": []
    },
    {
      "cell_type": "code",
      "metadata": {
        "id": "JENac7ERLO8h",
        "colab_type": "code",
        "colab": {}
      },
      "source": [
        "Xgrid = xgrid.reshape(-1,1)\n",
        "Xgrid"
      ],
      "execution_count": 0,
      "outputs": []
    },
    {
      "cell_type": "markdown",
      "metadata": {
        "id": "j0FoGQYhJezm",
        "colab_type": "text"
      },
      "source": [
        "## Fit using sklearn"
      ]
    },
    {
      "cell_type": "code",
      "metadata": {
        "id": "dOwsgjliJezp",
        "colab_type": "code",
        "colab": {}
      },
      "source": [
        "from sklearn.linear_model import LinearRegression"
      ],
      "execution_count": 0,
      "outputs": []
    },
    {
      "cell_type": "code",
      "metadata": {
        "id": "iE9TCoZ2Jez4",
        "colab_type": "code",
        "colab": {
          "base_uri": "https://localhost:8080/",
          "height": 34
        },
        "outputId": "0caa8b6d-1bcc-4e92-cbdf-80bbd5d56349"
      },
      "source": [
        "lr = LinearRegression()\n",
        "lr.fit(X,y)\n",
        "ypgrid = lr.predict(Xgrid)\n",
        "lr.coef_, lr.intercept_"
      ],
      "execution_count": 17,
      "outputs": [
        {
          "output_type": "execute_result",
          "data": {
            "text/plain": [
              "(array([82.90456142]), -3.709228868670302)"
            ]
          },
          "metadata": {
            "tags": []
          },
          "execution_count": 17
        }
      ]
    },
    {
      "cell_type": "code",
      "metadata": {
        "id": "3VFITiM6Je0D",
        "colab_type": "code",
        "colab": {
          "base_uri": "https://localhost:8080/",
          "height": 286
        },
        "outputId": "891b2b3b-c046-4afd-8f11-9e3ed1752a9b"
      },
      "source": [
        "plt.plot(Xgrid, ypgrid)\n",
        "plt.plot(X, y, '.')"
      ],
      "execution_count": 18,
      "outputs": [
        {
          "output_type": "execute_result",
          "data": {
            "text/plain": [
              "[<matplotlib.lines.Line2D at 0x7fb1d1fd8390>]"
            ]
          },
          "metadata": {
            "tags": []
          },
          "execution_count": 18
        },
        {
          "output_type": "display_data",
          "data": {
            "image/png": "[encoded data removed]",
            "text/plain": [
              "<Figure size 432x288 with 1 Axes>"
            ]
          },
          "metadata": {
            "tags": []
          }
        }
      ]
    },
    {
      "cell_type": "code",
      "metadata": {
        "id": "06j_5c7xJe0M",
        "colab_type": "code",
        "colab": {}
      },
      "source": [
        "from sklearn.metrics import r2_score"
      ],
      "execution_count": 0,
      "outputs": []
    },
    {
      "cell_type": "code",
      "metadata": {
        "id": "NcX5ercvJe0X",
        "colab_type": "code",
        "colab": {
          "base_uri": "https://localhost:8080/",
          "height": 34
        },
        "outputId": "a3622810-2d6b-4ece-ba60-4d71973d29b9"
      },
      "source": [
        "r2_score(y, lr.predict(X))"
      ],
      "execution_count": 21,
      "outputs": [
        {
          "output_type": "execute_result",
          "data": {
            "text/plain": [
              "0.9342344891672815"
            ]
          },
          "metadata": {
            "tags": []
          },
          "execution_count": 21
        }
      ]
    },
    {
      "cell_type": "markdown",
      "metadata": {
        "id": "m8StfswCJe0k",
        "colab_type": "text"
      },
      "source": [
        "## The impact of sample size\n",
        "\n",
        "We'll sample 20 points from the data set. We do this by sampling 20 indices, index into X and y, and then fit on the sample"
      ]
    },
    {
      "cell_type": "code",
      "metadata": {
        "id": "osMWkIxVJe0o",
        "colab_type": "code",
        "colab": {
          "base_uri": "https://localhost:8080/",
          "height": 51
        },
        "outputId": "64068c41-3288-48e1-85bd-58bed37227e3"
      },
      "source": [
        "sample_indices = np.random.choice(range(100), size=20)\n",
        "sample_indices"
      ],
      "execution_count": 22,
      "outputs": [
        {
          "output_type": "execute_result",
          "data": {
            "text/plain": [
              "array([52,  7, 20, 26, 32, 11,  0, 58,  4, 87, 37, 75, 57, 13, 38,  5, 31,\n",
              "       21, 78, 56])"
            ]
          },
          "metadata": {
            "tags": []
          },
          "execution_count": 22
        }
      ]
    },
    {
      "cell_type": "code",
      "metadata": {
        "id": "M_IY1UfzJe05",
        "colab_type": "code",
        "colab": {}
      },
      "source": [
        "Xsample = X[sample_indices]\n",
        "ysample = y[sample_indices]"
      ],
      "execution_count": 0,
      "outputs": []
    },
    {
      "cell_type": "code",
      "metadata": {
        "id": "ycJFbv6RJe1K",
        "colab_type": "code",
        "colab": {
          "base_uri": "https://localhost:8080/",
          "height": 34
        },
        "outputId": "0797c77b-7cc4-41d2-ce11-d5fc4fc2c1b9"
      },
      "source": [
        "lr_s = LinearRegression().fit(Xsample, ysample)\n",
        "r2_score(ysample, lr_s.predict(Xsample)), lr_s.score(Xsample, ysample)"
      ],
      "execution_count": 24,
      "outputs": [
        {
          "output_type": "execute_result",
          "data": {
            "text/plain": [
              "(0.9328107874688009, 0.9328107874688009)"
            ]
          },
          "metadata": {
            "tags": []
          },
          "execution_count": 24
        }
      ]
    },
    {
      "cell_type": "markdown",
      "metadata": {
        "id": "mwhxXm7xJe1X",
        "colab_type": "text"
      },
      "source": [
        "Lets check the sensitivity of our prediction to our sample. We'll do this 1000 times"
      ]
    },
    {
      "cell_type": "code",
      "metadata": {
        "id": "oYaqrbZbJe1b",
        "colab_type": "code",
        "colab": {
          "base_uri": "https://localhost:8080/",
          "height": 286
        },
        "outputId": "3af1ad43-48af-4d33-f571-47f8a6dc8e38"
      },
      "source": [
        "scores = []\n",
        "for i in range(1000):\n",
        "    sample_indices = np.random.choice(range(100), size=20)\n",
        "    Xsample = X[sample_indices]\n",
        "    ysample = y[sample_indices]\n",
        "    scores.append(LinearRegression().fit(Xsample, ysample).score(Xsample, ysample))\n",
        "plt.hist(scores,  bins=np.linspace(0.7, 1, 30))\n",
        "plt.xlim(0.7,1)"
      ],
      "execution_count": 25,
      "outputs": [
        {
          "output_type": "execute_result",
          "data": {
            "text/plain": [
              "(0.7, 1)"
            ]
          },
          "metadata": {
            "tags": []
          },
          "execution_count": 25
        },
        {
          "output_type": "display_data",
          "data": {
            "image/png": "[encoded data removed]",
            "text/plain": [
              "<Figure size 432x288 with 1 Axes>"
            ]
          },
          "metadata": {
            "tags": []
          }
        }
      ]
    },
    {
      "cell_type": "markdown",
      "metadata": {
        "id": "DgHGHVhYJe1p",
        "colab_type": "text"
      },
      "source": [
        "Redo this with a higher amount of noise (about 400). For this you will need to create a new dataset. Plot the data. Plot the histogram of the R^2 as well as that of the coefficients.Try a smaller dataset as well. What conclusions can you draw?"
      ]
    },
    {
      "cell_type": "code",
      "metadata": {
        "id": "cJ73ioiJJe1t",
        "colab_type": "code",
        "colab": {}
      },
      "source": [
        "# your code here\n",
        "#code adapted from http://tillbergmann.com/blog/python-gradient-descent.html\n",
        "X, y, coef = make_regression(n_samples = 100, \n",
        "                       n_features=1, \n",
        "                       noise=400,\n",
        "                       random_state=2017,\n",
        "                       coef=True)\n"
      ],
      "execution_count": 0,
      "outputs": []
    },
    {
      "cell_type": "code",
      "metadata": {
        "id": "sKOeQCDtJe2G",
        "colab_type": "code",
        "colab": {
          "base_uri": "https://localhost:8080/",
          "height": 34
        },
        "outputId": "e0a8eaf7-7971-4776-f5c9-131b9810db20"
      },
      "source": [
        "# your code here\n",
        "lr = LinearRegression()\n",
        "lr.fit(X,y)\n",
        "ypgrid = lr.predict(Xgrid)\n",
        "lr.coef_, lr.intercept_"
      ],
      "execution_count": 28,
      "outputs": [
        {
          "output_type": "execute_result",
          "data": {
            "text/plain": [
              "(array([121.30734871]), -74.18457737340603)"
            ]
          },
          "metadata": {
            "tags": []
          },
          "execution_count": 28
        }
      ]
    },
    {
      "cell_type": "code",
      "metadata": {
        "id": "63E2dLgFRI3V",
        "colab_type": "code",
        "colab": {
          "base_uri": "https://localhost:8080/",
          "height": 286
        },
        "outputId": "0e20f172-cd36-4859-a4d5-413f8e00aa33"
      },
      "source": [
        "plt.plot(lr.coef_)\n",
        "lr.coef_"
      ],
      "execution_count": 41,
      "outputs": [
        {
          "output_type": "execute_result",
          "data": {
            "text/plain": [
              "array([69.89957701])"
            ]
          },
          "metadata": {
            "tags": []
          },
          "execution_count": 41
        },
        {
          "output_type": "display_data",
          "data": {
            "image/png": "[encoded data removed]",
            "text/plain": [
              "<Figure size 432x288 with 1 Axes>"
            ]
          },
          "metadata": {
            "tags": []
          }
        }
      ]
    },
    {
      "cell_type": "code",
      "metadata": {
        "id": "G13Xlwn4Je2g",
        "colab_type": "code",
        "colab": {
          "base_uri": "https://localhost:8080/",
          "height": 286
        },
        "outputId": "cb871089-b7d7-4c1f-c351-ea6bf6859ca6"
      },
      "source": [
        "# your code here\n",
        "plt.plot(Xgrid, ypgrid)\n",
        "plt.plot(X, y, '.')"
      ],
      "execution_count": 29,
      "outputs": [
        {
          "output_type": "execute_result",
          "data": {
            "text/plain": [
              "[<matplotlib.lines.Line2D at 0x7fb1d201f6d8>]"
            ]
          },
          "metadata": {
            "tags": []
          },
          "execution_count": 29
        },
        {
          "output_type": "display_data",
          "data": {
            "image/png": "[encoded data removed]",
            "text/plain": [
              "<Figure size 432x288 with 1 Axes>"
            ]
          },
          "metadata": {
            "tags": []
          }
        }
      ]
    },
    {
      "cell_type": "code",
      "metadata": {
        "id": "IZSgKxsLJe2u",
        "colab_type": "code",
        "colab": {
          "base_uri": "https://localhost:8080/",
          "height": 34
        },
        "outputId": "e36be2b3-aa80-4de2-e6d1-f015d7f626b2"
      },
      "source": [
        "# your code here\n",
        "r2_score(y,lr.predict(X))\n"
      ],
      "execution_count": 30,
      "outputs": [
        {
          "output_type": "execute_result",
          "data": {
            "text/plain": [
              "0.07066243043021647"
            ]
          },
          "metadata": {
            "tags": []
          },
          "execution_count": 30
        }
      ]
    },
    {
      "cell_type": "code",
      "metadata": {
        "id": "j-f0HEzJJe2-",
        "colab_type": "code",
        "colab": {
          "base_uri": "https://localhost:8080/",
          "height": 51
        },
        "outputId": "0d233a4b-7d45-41e8-c4e2-0f53506be8e2"
      },
      "source": [
        "# your code here\n",
        "sample_indices = np.random.choice(range(100), size=20)\n",
        "sample_indices\n"
      ],
      "execution_count": 31,
      "outputs": [
        {
          "output_type": "execute_result",
          "data": {
            "text/plain": [
              "array([47, 18,  0, 98, 49, 22, 97,  5,  0, 43, 49, 93, 72, 47, 19, 74,  7,\n",
              "       74, 25, 82])"
            ]
          },
          "metadata": {
            "tags": []
          },
          "execution_count": 31
        }
      ]
    },
    {
      "cell_type": "code",
      "metadata": {
        "id": "PQI1_RqePpix",
        "colab_type": "code",
        "colab": {}
      },
      "source": [
        "Xsample = X[sample_indices]\n",
        "ysample = y[sample_indices]"
      ],
      "execution_count": 0,
      "outputs": []
    },
    {
      "cell_type": "code",
      "metadata": {
        "id": "mLH-qqjfPuH1",
        "colab_type": "code",
        "colab": {
          "base_uri": "https://localhost:8080/",
          "height": 303
        },
        "outputId": "879c5e45-c54d-4ce8-f5c2-2de632a56769"
      },
      "source": [
        "scores = []\n",
        "coef = []\n",
        "lr = LinearRegression()\n",
        "for i in range(1000):\n",
        "    sample_indices = np.random.choice(range(100), size=20)\n",
        "    Xsample = X[sample_indices]\n",
        "    ysample = y[sample_indices]\n",
        "    lr.fit(Xsample, ysample)\n",
        "    scores.append(lr.score(Xsample, ysample))\n",
        "    coef.append(lr.coef_)\n",
        "plt.hist(scores,  bins=np.linspace(0, 1, 30),alpha=0.7)\n",
        "plt.xlim(0,1)\n",
        "plt.legend()"
      ],
      "execution_count": 49,
      "outputs": [
        {
          "output_type": "stream",
          "text": [
            "No handles with labels found to put in legend.\n"
          ],
          "name": "stderr"
        },
        {
          "output_type": "execute_result",
          "data": {
            "text/plain": [
              "<matplotlib.legend.Legend at 0x7fb1c3396c18>"
            ]
          },
          "metadata": {
            "tags": []
          },
          "execution_count": 49
        },
        {
          "output_type": "display_data",
          "data": {
            "image/png": "[encoded data removed]",
            "text/plain": [
              "<Figure size 432x288 with 1 Axes>"
            ]
          },
          "metadata": {
            "tags": []
          }
        }
      ]
    },
    {
      "cell_type": "code",
      "metadata": {
        "id": "brk605-tREHA",
        "colab_type": "code",
        "colab": {
          "base_uri": "https://localhost:8080/",
          "height": 17337
        },
        "outputId": "edb49030-8833-4dea-a938-ed952d009814"
      },
      "source": [
        "plt.hist(coef)"
      ],
      "execution_count": 46,
      "outputs": [
        {
          "output_type": "execute_result",
          "data": {
            "text/plain": [
              "([array([0., 0., 1., 0., 0., 0., 0., 0., 0., 0.]),\n",
              "  array([0., 0., 0., 0., 1., 0., 0., 0., 0., 0.]),\n",
              "  array([0., 0., 0., 0., 1., 0., 0., 0., 0., 0.]),\n",
              "  array([0., 0., 0., 1., 0., 0., 0., 0., 0., 0.]),\n",
              "  array([0., 0., 0., 0., 1., 0., 0., 0., 0., 0.]),\n",
              "  array([0., 0., 0., 0., 1., 0., 0., 0., 0., 0.]),\n",
              "  array([0., 0., 0., 1., 0., 0., 0., 0., 0., 0.]),\n",
              "  array([0., 0., 1., 0., 0., 0., 0., 0., 0., 0.]),\n",
              "  array([0., 0., 0., 0., 0., 1., 0., 0., 0., 0.]),\n",
              "  array([0., 0., 0., 0., 0., 1., 0., 0., 0., 0.]),\n",
              "  array([0., 0., 1., 0., 0., 0., 0., 0., 0., 0.]),\n",
              "  array([0., 0., 0., 0., 1., 0., 0., 0., 0., 0.]),\n",
              "  array([0., 0., 0., 0., 0., 0., 1., 0., 0., 0.]),\n",
              "  array([0., 0., 0., 1., 0., 0., 0., 0., 0., 0.]),\n",
              "  array([0., 0., 0., 0., 0., 1., 0., 0., 0., 0.]),\n",
              "  array([0., 0., 0., 0., 1., 0., 0., 0., 0., 0.]),\n",
              "  array([0., 0., 0., 0., 0., 1., 0., 0., 0., 0.]),\n",
              "  array([0., 0., 0., 0., 0., 1., 0., 0., 0., 0.]),\n",
              "  array([0., 0., 0., 1., 0., 0., 0., 0., 0., 0.]),\n",
              "  array([0., 0., 0., 0., 1., 0., 0., 0., 0., 0.]),\n",
              "  array([0., 0., 0., 1., 0., 0., 0., 0., 0., 0.]),\n",
              "  array([0., 0., 0., 0., 1., 0., 0., 0., 0., 0.]),\n",
              "  array([0., 0., 0., 1., 0., 0., 0., 0., 0., 0.]),\n",
              "  array([0., 0., 1., 0., 0., 0., 0., 0., 0., 0.]),\n",
              "  array([0., 0., 0., 0., 0., 0., 1., 0., 0., 0.]),\n",
              "  array([0., 0., 0., 0., 1., 0., 0., 0., 0., 0.]),\n",
              "  array([0., 0., 0., 0., 0., 1., 0., 0., 0., 0.]),\n",
              "  array([0., 0., 0., 0., 0., 1., 0., 0., 0., 0.]),\n",
              "  array([0., 0., 0., 0., 1., 0., 0., 0., 0., 0.]),\n",
              "  array([0., 0., 1., 0., 0., 0., 0., 0., 0., 0.]),\n",
              "  array([0., 0., 0., 0., 0., 1., 0., 0., 0., 0.]),\n",
              "  array([0., 0., 0., 1., 0., 0., 0., 0., 0., 0.]),\n",
              "  array([0., 0., 1., 0., 0., 0., 0., 0., 0., 0.]),\n",
              "  array([0., 0., 0., 0., 1., 0., 0., 0., 0., 0.]),\n",
              "  array([0., 0., 1., 0., 0., 0., 0., 0., 0., 0.]),\n",
              "  array([0., 0., 1., 0., 0., 0., 0., 0., 0., 0.]),\n",
              "  array([0., 0., 0., 1., 0., 0., 0., 0., 0., 0.]),\n",
              "  array([0., 0., 0., 0., 1., 0., 0., 0., 0., 0.]),\n",
              "  array([0., 0., 0., 0., 0., 0., 1., 0., 0., 0.]),\n",
              "  array([0., 0., 0., 0., 0., 1., 0., 0., 0., 0.]),\n",
              "  array([0., 0., 0., 0., 1., 0., 0., 0., 0., 0.]),\n",
              "  array([0., 0., 0., 0., 0., 0., 0., 1., 0., 0.]),\n",
              "  array([0., 0., 0., 0., 0., 1., 0., 0., 0., 0.]),\n",
              "  array([0., 0., 0., 0., 0., 1., 0., 0., 0., 0.]),\n",
              "  array([0., 0., 0., 0., 0., 0., 1., 0., 0., 0.]),\n",
              "  array([0., 0., 0., 1., 0., 0., 0., 0., 0., 0.]),\n",
              "  array([0., 1., 0., 0., 0., 0., 0., 0., 0., 0.]),\n",
              "  array([0., 0., 0., 0., 0., 1., 0., 0., 0., 0.]),\n",
              "  array([0., 0., 0., 0., 1., 0., 0., 0., 0., 0.]),\n",
              "  array([0., 0., 0., 1., 0., 0., 0., 0., 0., 0.]),\n",
              "  array([0., 0., 0., 1., 0., 0., 0., 0., 0., 0.]),\n",
              "  array([0., 0., 0., 0., 1., 0., 0., 0., 0., 0.]),\n",
              "  array([0., 0., 1., 0., 0., 0., 0., 0., 0., 0.]),\n",
              "  array([0., 0., 0., 0., 1., 0., 0., 0., 0., 0.]),\n",
              "  array([0., 0., 0., 0., 1., 0., 0., 0., 0., 0.]),\n",
              "  array([0., 0., 0., 0., 0., 1., 0., 0., 0., 0.]),\n",
              "  array([0., 0., 0., 0., 1., 0., 0., 0., 0., 0.]),\n",
              "  array([0., 0., 0., 0., 1., 0., 0., 0., 0., 0.]),\n",
              "  array([0., 0., 0., 0., 1., 0., 0., 0., 0., 0.]),\n",
              "  array([0., 0., 0., 0., 1., 0., 0., 0., 0., 0.]),\n",
              "  array([0., 0., 0., 0., 1., 0., 0., 0., 0., 0.]),\n",
              "  array([0., 0., 1., 0., 0., 0., 0., 0., 0., 0.]),\n",
              "  array([0., 0., 0., 0., 0., 0., 0., 0., 1., 0.]),\n",
              "  array([0., 0., 0., 0., 0., 1., 0., 0., 0., 0.]),\n",
              "  array([0., 0., 0., 0., 1., 0., 0., 0., 0., 0.]),\n",
              "  array([0., 0., 0., 0., 0., 1., 0., 0., 0., 0.]),\n",
              "  array([0., 0., 0., 0., 0., 1., 0., 0., 0., 0.]),\n",
              "  array([0., 0., 0., 1., 0., 0., 0., 0., 0., 0.]),\n",
              "  array([0., 0., 0., 0., 1., 0., 0., 0., 0., 0.]),\n",
              "  array([0., 0., 0., 0., 0., 1., 0., 0., 0., 0.]),\n",
              "  array([0., 0., 0., 0., 1., 0., 0., 0., 0., 0.]),\n",
              "  array([0., 0., 0., 0., 0., 1., 0., 0., 0., 0.]),\n",
              "  array([0., 0., 0., 0., 0., 0., 1., 0., 0., 0.]),\n",
              "  array([0., 0., 1., 0., 0., 0., 0., 0., 0., 0.]),\n",
              "  array([0., 0., 0., 0., 1., 0., 0., 0., 0., 0.]),\n",
              "  array([0., 0., 0., 0., 1., 0., 0., 0., 0., 0.]),\n",
              "  array([0., 0., 1., 0., 0., 0., 0., 0., 0., 0.]),\n",
              "  array([0., 0., 0., 0., 0., 0., 1., 0., 0., 0.]),\n",
              "  array([0., 0., 0., 1., 0., 0., 0., 0., 0., 0.]),\n",
              "  array([0., 0., 0., 0., 1., 0., 0., 0., 0., 0.]),\n",
              "  array([0., 0., 0., 0., 1., 0., 0., 0., 0., 0.]),\n",
              "  array([0., 0., 0., 0., 1., 0., 0., 0., 0., 0.]),\n",
              "  array([0., 0., 0., 1., 0., 0., 0., 0., 0., 0.]),\n",
              "  array([0., 0., 0., 0., 0., 0., 1., 0., 0., 0.]),\n",
              "  array([0., 0., 0., 0., 1., 0., 0., 0., 0., 0.]),\n",
              "  array([0., 0., 0., 0., 0., 1., 0., 0., 0., 0.]),\n",
              "  array([0., 0., 0., 0., 0., 1., 0., 0., 0., 0.]),\n",
              "  array([0., 0., 0., 0., 0., 1., 0., 0., 0., 0.]),\n",
              "  array([0., 0., 0., 0., 0., 0., 1., 0., 0., 0.]),\n",
              "  array([0., 0., 0., 0., 1., 0., 0., 0., 0., 0.]),\n",
              "  array([0., 0., 0., 0., 1., 0., 0., 0., 0., 0.]),\n",
              "  array([0., 0., 0., 1., 0., 0., 0., 0., 0., 0.]),\n",
              "  array([0., 1., 0., 0., 0., 0., 0., 0., 0., 0.]),\n",
              "  array([0., 0., 0., 0., 1., 0., 0., 0., 0., 0.]),\n",
              "  array([0., 0., 0., 1., 0., 0., 0., 0., 0., 0.]),\n",
              "  array([0., 0., 0., 0., 0., 0., 0., 1., 0., 0.]),\n",
              "  array([0., 0., 0., 0., 0., 1., 0., 0., 0., 0.]),\n",
              "  array([0., 0., 0., 0., 0., 1., 0., 0., 0., 0.]),\n",
              "  array([0., 0., 0., 0., 0., 1., 0., 0., 0., 0.]),\n",
              "  array([0., 0., 0., 0., 1., 0., 0., 0., 0., 0.]),\n",
              "  array([0., 0., 0., 0., 0., 1., 0., 0., 0., 0.]),\n",
              "  array([0., 0., 0., 0., 1., 0., 0., 0., 0., 0.]),\n",
              "  array([0., 0., 0., 0., 0., 0., 0., 1., 0., 0.]),\n",
              "  array([0., 0., 0., 0., 0., 0., 1., 0., 0., 0.]),\n",
              "  array([0., 0., 0., 0., 0., 0., 1., 0., 0., 0.]),\n",
              "  array([0., 0., 0., 0., 1., 0., 0., 0., 0., 0.]),\n",
              "  array([0., 0., 0., 0., 1., 0., 0., 0., 0., 0.]),\n",
              "  array([0., 0., 1., 0., 0., 0., 0., 0., 0., 0.]),\n",
              "  array([0., 0., 0., 1., 0., 0., 0., 0., 0., 0.]),\n",
              "  array([0., 0., 0., 0., 1., 0., 0., 0., 0., 0.]),\n",
              "  array([0., 0., 0., 0., 1., 0., 0., 0., 0., 0.]),\n",
              "  array([0., 0., 0., 0., 0., 1., 0., 0., 0., 0.]),\n",
              "  array([0., 0., 0., 0., 1., 0., 0., 0., 0., 0.]),\n",
              "  array([0., 0., 0., 0., 1., 0., 0., 0., 0., 0.]),\n",
              "  array([0., 0., 0., 0., 0., 1., 0., 0., 0., 0.]),\n",
              "  array([0., 0., 0., 0., 0., 1., 0., 0., 0., 0.]),\n",
              "  array([0., 0., 1., 0., 0., 0., 0., 0., 0., 0.]),\n",
              "  array([0., 0., 0., 1., 0., 0., 0., 0., 0., 0.]),\n",
              "  array([0., 0., 0., 0., 0., 0., 1., 0., 0., 0.]),\n",
              "  array([0., 0., 0., 0., 1., 0., 0., 0., 0., 0.]),\n",
              "  array([0., 0., 0., 0., 1., 0., 0., 0., 0., 0.]),\n",
              "  array([0., 0., 0., 0., 0., 1., 0., 0., 0., 0.]),\n",
              "  array([0., 0., 0., 0., 0., 1., 0., 0., 0., 0.]),\n",
              "  array([0., 0., 0., 1., 0., 0., 0., 0., 0., 0.]),\n",
              "  array([0., 0., 0., 0., 0., 1., 0., 0., 0., 0.]),\n",
              "  array([0., 0., 0., 1., 0., 0., 0., 0., 0., 0.]),\n",
              "  array([0., 1., 0., 0., 0., 0., 0., 0., 0., 0.]),\n",
              "  array([0., 0., 0., 0., 0., 0., 1., 0., 0., 0.]),\n",
              "  array([0., 0., 0., 1., 0., 0., 0., 0., 0., 0.]),\n",
              "  array([0., 0., 0., 0., 0., 1., 0., 0., 0., 0.]),\n",
              "  array([0., 0., 0., 0., 0., 1., 0., 0., 0., 0.]),\n",
              "  array([0., 0., 0., 1., 0., 0., 0., 0., 0., 0.]),\n",
              "  array([1., 0., 0., 0., 0., 0., 0., 0., 0., 0.]),\n",
              "  array([0., 0., 0., 0., 0., 1., 0., 0., 0., 0.]),\n",
              "  array([0., 0., 0., 0., 1., 0., 0., 0., 0., 0.]),\n",
              "  array([0., 0., 0., 0., 0., 0., 1., 0., 0., 0.]),\n",
              "  array([0., 0., 0., 0., 1., 0., 0., 0., 0., 0.]),\n",
              "  array([0., 0., 0., 0., 0., 1., 0., 0., 0., 0.]),\n",
              "  array([0., 0., 0., 0., 0., 1., 0., 0., 0., 0.]),\n",
              "  array([0., 0., 0., 0., 0., 0., 1., 0., 0., 0.]),\n",
              "  array([0., 0., 0., 1., 0., 0., 0., 0., 0., 0.]),\n",
              "  array([0., 0., 0., 0., 0., 0., 0., 1., 0., 0.]),\n",
              "  array([0., 0., 0., 0., 1., 0., 0., 0., 0., 0.]),\n",
              "  array([0., 0., 0., 0., 1., 0., 0., 0., 0., 0.]),\n",
              "  array([0., 0., 0., 0., 0., 1., 0., 0., 0., 0.]),\n",
              "  array([0., 0., 0., 0., 0., 0., 1., 0., 0., 0.]),\n",
              "  array([0., 0., 0., 1., 0., 0., 0., 0., 0., 0.]),\n",
              "  array([0., 0., 0., 0., 1., 0., 0., 0., 0., 0.]),\n",
              "  array([0., 1., 0., 0., 0., 0., 0., 0., 0., 0.]),\n",
              "  array([0., 0., 0., 0., 0., 0., 1., 0., 0., 0.]),\n",
              "  array([0., 0., 0., 0., 1., 0., 0., 0., 0., 0.]),\n",
              "  array([0., 0., 0., 0., 0., 1., 0., 0., 0., 0.]),\n",
              "  array([0., 0., 0., 0., 1., 0., 0., 0., 0., 0.]),\n",
              "  array([0., 0., 0., 0., 0., 0., 0., 1., 0., 0.]),\n",
              "  array([0., 0., 0., 0., 1., 0., 0., 0., 0., 0.]),\n",
              "  array([0., 0., 0., 1., 0., 0., 0., 0., 0., 0.]),\n",
              "  array([0., 1., 0., 0., 0., 0., 0., 0., 0., 0.]),\n",
              "  array([0., 0., 1., 0., 0., 0., 0., 0., 0., 0.]),\n",
              "  array([0., 0., 0., 0., 0., 0., 1., 0., 0., 0.]),\n",
              "  array([0., 0., 0., 0., 0., 0., 1., 0., 0., 0.]),\n",
              "  array([0., 0., 0., 0., 1., 0., 0., 0., 0., 0.]),\n",
              "  array([0., 0., 0., 0., 0., 0., 1., 0., 0., 0.]),\n",
              "  array([0., 0., 0., 1., 0., 0., 0., 0., 0., 0.]),\n",
              "  array([0., 0., 0., 0., 0., 0., 1., 0., 0., 0.]),\n",
              "  array([0., 0., 0., 0., 0., 1., 0., 0., 0., 0.]),\n",
              "  array([0., 0., 0., 0., 0., 1., 0., 0., 0., 0.]),\n",
              "  array([0., 0., 0., 0., 1., 0., 0., 0., 0., 0.]),\n",
              "  array([0., 0., 0., 0., 0., 1., 0., 0., 0., 0.]),\n",
              "  array([0., 0., 0., 0., 1., 0., 0., 0., 0., 0.]),\n",
              "  array([0., 0., 0., 0., 1., 0., 0., 0., 0., 0.]),\n",
              "  array([0., 0., 0., 0., 0., 0., 1., 0., 0., 0.]),\n",
              "  array([0., 0., 0., 0., 1., 0., 0., 0., 0., 0.]),\n",
              "  array([0., 0., 0., 0., 1., 0., 0., 0., 0., 0.]),\n",
              "  array([0., 0., 0., 0., 1., 0., 0., 0., 0., 0.]),\n",
              "  array([0., 0., 0., 1., 0., 0., 0., 0., 0., 0.]),\n",
              "  array([0., 0., 0., 0., 1., 0., 0., 0., 0., 0.]),\n",
              "  array([0., 0., 1., 0., 0., 0., 0., 0., 0., 0.]),\n",
              "  array([0., 0., 0., 0., 1., 0., 0., 0., 0., 0.]),\n",
              "  array([0., 0., 1., 0., 0., 0., 0., 0., 0., 0.]),\n",
              "  array([0., 0., 1., 0., 0., 0., 0., 0., 0., 0.]),\n",
              "  array([0., 0., 0., 0., 1., 0., 0., 0., 0., 0.]),\n",
              "  array([0., 0., 1., 0., 0., 0., 0., 0., 0., 0.]),\n",
              "  array([0., 0., 0., 0., 0., 1., 0., 0., 0., 0.]),\n",
              "  array([0., 0., 0., 0., 1., 0., 0., 0., 0., 0.]),\n",
              "  array([0., 0., 0., 0., 1., 0., 0., 0., 0., 0.]),\n",
              "  array([0., 0., 0., 0., 0., 1., 0., 0., 0., 0.]),\n",
              "  array([0., 0., 0., 0., 0., 0., 1., 0., 0., 0.]),\n",
              "  array([0., 0., 0., 0., 1., 0., 0., 0., 0., 0.]),\n",
              "  array([0., 0., 0., 0., 1., 0., 0., 0., 0., 0.]),\n",
              "  array([0., 0., 0., 0., 1., 0., 0., 0., 0., 0.]),\n",
              "  array([0., 0., 0., 0., 1., 0., 0., 0., 0., 0.]),\n",
              "  array([0., 0., 1., 0., 0., 0., 0., 0., 0., 0.]),\n",
              "  array([0., 0., 0., 0., 1., 0., 0., 0., 0., 0.]),\n",
              "  array([0., 0., 0., 0., 0., 0., 0., 1., 0., 0.]),\n",
              "  array([0., 0., 0., 0., 0., 0., 1., 0., 0., 0.]),\n",
              "  array([0., 0., 0., 0., 1., 0., 0., 0., 0., 0.]),\n",
              "  array([0., 0., 0., 1., 0., 0., 0., 0., 0., 0.]),\n",
              "  array([0., 1., 0., 0., 0., 0., 0., 0., 0., 0.]),\n",
              "  array([0., 0., 0., 0., 0., 1., 0., 0., 0., 0.]),\n",
              "  array([0., 0., 0., 0., 1., 0., 0., 0., 0., 0.]),\n",
              "  array([0., 0., 0., 0., 0., 0., 1., 0., 0., 0.]),\n",
              "  array([0., 0., 0., 0., 0., 0., 0., 0., 1., 0.]),\n",
              "  array([0., 0., 1., 0., 0., 0., 0., 0., 0., 0.]),\n",
              "  array([0., 0., 0., 0., 0., 0., 1., 0., 0., 0.]),\n",
              "  array([0., 0., 0., 1., 0., 0., 0., 0., 0., 0.]),\n",
              "  array([0., 0., 0., 1., 0., 0., 0., 0., 0., 0.]),\n",
              "  array([0., 0., 0., 1., 0., 0., 0., 0., 0., 0.]),\n",
              "  array([0., 0., 0., 0., 0., 1., 0., 0., 0., 0.]),\n",
              "  array([0., 0., 1., 0., 0., 0., 0., 0., 0., 0.]),\n",
              "  array([0., 0., 0., 0., 0., 0., 1., 0., 0., 0.]),\n",
              "  array([0., 0., 0., 0., 1., 0., 0., 0., 0., 0.]),\n",
              "  array([0., 0., 0., 0., 0., 0., 1., 0., 0., 0.]),\n",
              "  array([0., 0., 0., 0., 0., 1., 0., 0., 0., 0.]),\n",
              "  array([0., 0., 0., 0., 0., 0., 1., 0., 0., 0.]),\n",
              "  array([0., 0., 0., 0., 0., 1., 0., 0., 0., 0.]),\n",
              "  array([0., 0., 0., 0., 1., 0., 0., 0., 0., 0.]),\n",
              "  array([0., 0., 0., 0., 1., 0., 0., 0., 0., 0.]),\n",
              "  array([0., 0., 0., 0., 1., 0., 0., 0., 0., 0.]),\n",
              "  array([0., 0., 0., 0., 0., 1., 0., 0., 0., 0.]),\n",
              "  array([0., 0., 0., 0., 1., 0., 0., 0., 0., 0.]),\n",
              "  array([0., 0., 0., 0., 0., 0., 1., 0., 0., 0.]),\n",
              "  array([0., 1., 0., 0., 0., 0., 0., 0., 0., 0.]),\n",
              "  array([0., 0., 0., 0., 0., 0., 0., 0., 1., 0.]),\n",
              "  array([0., 0., 0., 0., 0., 1., 0., 0., 0., 0.]),\n",
              "  array([0., 0., 0., 0., 0., 0., 1., 0., 0., 0.]),\n",
              "  array([0., 0., 0., 0., 0., 1., 0., 0., 0., 0.]),\n",
              "  array([0., 0., 0., 0., 0., 0., 1., 0., 0., 0.]),\n",
              "  array([0., 0., 0., 0., 0., 0., 0., 1., 0., 0.]),\n",
              "  array([0., 0., 0., 0., 0., 0., 0., 1., 0., 0.]),\n",
              "  array([0., 0., 0., 0., 0., 1., 0., 0., 0., 0.]),\n",
              "  array([0., 0., 0., 0., 1., 0., 0., 0., 0., 0.]),\n",
              "  array([0., 0., 0., 1., 0., 0., 0., 0., 0., 0.]),\n",
              "  array([0., 0., 0., 0., 0., 0., 1., 0., 0., 0.]),\n",
              "  array([0., 0., 0., 1., 0., 0., 0., 0., 0., 0.]),\n",
              "  array([0., 0., 0., 0., 1., 0., 0., 0., 0., 0.]),\n",
              "  array([0., 0., 0., 1., 0., 0., 0., 0., 0., 0.]),\n",
              "  array([0., 0., 0., 0., 1., 0., 0., 0., 0., 0.]),\n",
              "  array([0., 1., 0., 0., 0., 0., 0., 0., 0., 0.]),\n",
              "  array([0., 0., 0., 0., 0., 0., 0., 1., 0., 0.]),\n",
              "  array([0., 0., 0., 0., 0., 0., 1., 0., 0., 0.]),\n",
              "  array([0., 0., 0., 0., 1., 0., 0., 0., 0., 0.]),\n",
              "  array([0., 0., 1., 0., 0., 0., 0., 0., 0., 0.]),\n",
              "  array([0., 0., 0., 1., 0., 0., 0., 0., 0., 0.]),\n",
              "  array([0., 0., 0., 0., 0., 1., 0., 0., 0., 0.]),\n",
              "  array([0., 0., 0., 0., 0., 0., 1., 0., 0., 0.]),\n",
              "  array([0., 0., 0., 0., 0., 1., 0., 0., 0., 0.]),\n",
              "  array([0., 0., 0., 0., 0., 1., 0., 0., 0., 0.]),\n",
              "  array([0., 0., 0., 0., 0., 0., 1., 0., 0., 0.]),\n",
              "  array([0., 0., 0., 0., 1., 0., 0., 0., 0., 0.]),\n",
              "  array([0., 0., 0., 1., 0., 0., 0., 0., 0., 0.]),\n",
              "  array([0., 0., 0., 0., 0., 1., 0., 0., 0., 0.]),\n",
              "  array([0., 0., 0., 1., 0., 0., 0., 0., 0., 0.]),\n",
              "  array([0., 0., 0., 0., 0., 1., 0., 0., 0., 0.]),\n",
              "  array([0., 0., 0., 0., 1., 0., 0., 0., 0., 0.]),\n",
              "  array([0., 0., 1., 0., 0., 0., 0., 0., 0., 0.]),\n",
              "  array([0., 0., 0., 0., 0., 0., 1., 0., 0., 0.]),\n",
              "  array([0., 0., 0., 0., 0., 1., 0., 0., 0., 0.]),\n",
              "  array([0., 0., 0., 0., 0., 0., 1., 0., 0., 0.]),\n",
              "  array([0., 0., 1., 0., 0., 0., 0., 0., 0., 0.]),\n",
              "  array([0., 0., 1., 0., 0., 0., 0., 0., 0., 0.]),\n",
              "  array([0., 0., 0., 0., 1., 0., 0., 0., 0., 0.]),\n",
              "  array([0., 0., 0., 0., 0., 0., 1., 0., 0., 0.]),\n",
              "  array([0., 0., 0., 0., 1., 0., 0., 0., 0., 0.]),\n",
              "  array([0., 0., 0., 0., 1., 0., 0., 0., 0., 0.]),\n",
              "  array([0., 0., 0., 0., 0., 1., 0., 0., 0., 0.]),\n",
              "  array([0., 0., 0., 0., 1., 0., 0., 0., 0., 0.]),\n",
              "  array([0., 0., 0., 0., 1., 0., 0., 0., 0., 0.]),\n",
              "  array([0., 0., 1., 0., 0., 0., 0., 0., 0., 0.]),\n",
              "  array([0., 0., 0., 0., 1., 0., 0., 0., 0., 0.]),\n",
              "  array([0., 0., 0., 0., 1., 0., 0., 0., 0., 0.]),\n",
              "  array([0., 0., 0., 0., 1., 0., 0., 0., 0., 0.]),\n",
              "  array([0., 0., 0., 0., 0., 0., 1., 0., 0., 0.]),\n",
              "  array([0., 0., 0., 0., 1., 0., 0., 0., 0., 0.]),\n",
              "  array([0., 0., 0., 0., 0., 0., 1., 0., 0., 0.]),\n",
              "  array([0., 0., 0., 0., 0., 0., 1., 0., 0., 0.]),\n",
              "  array([0., 0., 0., 0., 1., 0., 0., 0., 0., 0.]),\n",
              "  array([0., 0., 0., 0., 1., 0., 0., 0., 0., 0.]),\n",
              "  array([0., 0., 0., 0., 0., 0., 1., 0., 0., 0.]),\n",
              "  array([0., 0., 0., 0., 0., 0., 1., 0., 0., 0.]),\n",
              "  array([0., 0., 0., 0., 0., 0., 0., 1., 0., 0.]),\n",
              "  array([0., 0., 0., 1., 0., 0., 0., 0., 0., 0.]),\n",
              "  array([0., 0., 0., 1., 0., 0., 0., 0., 0., 0.]),\n",
              "  array([0., 0., 0., 0., 0., 0., 1., 0., 0., 0.]),\n",
              "  array([0., 0., 0., 0., 1., 0., 0., 0., 0., 0.]),\n",
              "  array([0., 0., 0., 0., 0., 1., 0., 0., 0., 0.]),\n",
              "  array([0., 0., 0., 1., 0., 0., 0., 0., 0., 0.]),\n",
              "  array([0., 0., 0., 0., 0., 0., 1., 0., 0., 0.]),\n",
              "  array([0., 0., 0., 0., 0., 0., 0., 1., 0., 0.]),\n",
              "  array([0., 0., 0., 1., 0., 0., 0., 0., 0., 0.]),\n",
              "  array([0., 0., 0., 0., 1., 0., 0., 0., 0., 0.]),\n",
              "  array([0., 0., 0., 0., 1., 0., 0., 0., 0., 0.]),\n",
              "  array([0., 0., 0., 0., 0., 1., 0., 0., 0., 0.]),\n",
              "  array([0., 0., 0., 0., 0., 1., 0., 0., 0., 0.]),\n",
              "  array([0., 0., 0., 0., 0., 1., 0., 0., 0., 0.]),\n",
              "  array([0., 0., 0., 0., 0., 0., 1., 0., 0., 0.]),\n",
              "  array([0., 0., 0., 0., 0., 1., 0., 0., 0., 0.]),\n",
              "  array([0., 0., 1., 0., 0., 0., 0., 0., 0., 0.]),\n",
              "  array([0., 0., 0., 0., 0., 1., 0., 0., 0., 0.]),\n",
              "  array([0., 0., 0., 0., 0., 1., 0., 0., 0., 0.]),\n",
              "  array([0., 0., 0., 0., 0., 1., 0., 0., 0., 0.]),\n",
              "  array([0., 0., 0., 0., 1., 0., 0., 0., 0., 0.]),\n",
              "  array([0., 0., 0., 1., 0., 0., 0., 0., 0., 0.]),\n",
              "  array([0., 0., 0., 0., 1., 0., 0., 0., 0., 0.]),\n",
              "  array([0., 0., 0., 0., 1., 0., 0., 0., 0., 0.]),\n",
              "  array([0., 0., 0., 0., 1., 0., 0., 0., 0., 0.]),\n",
              "  array([0., 0., 0., 0., 1., 0., 0., 0., 0., 0.]),\n",
              "  array([0., 0., 0., 0., 1., 0., 0., 0., 0., 0.]),\n",
              "  array([0., 0., 0., 0., 0., 1., 0., 0., 0., 0.]),\n",
              "  array([0., 0., 0., 0., 0., 0., 1., 0., 0., 0.]),\n",
              "  array([0., 0., 0., 0., 0., 1., 0., 0., 0., 0.]),\n",
              "  array([0., 0., 0., 1., 0., 0., 0., 0., 0., 0.]),\n",
              "  array([0., 0., 0., 0., 1., 0., 0., 0., 0., 0.]),\n",
              "  array([0., 0., 1., 0., 0., 0., 0., 0., 0., 0.]),\n",
              "  array([0., 1., 0., 0., 0., 0., 0., 0., 0., 0.]),\n",
              "  array([0., 0., 0., 1., 0., 0., 0., 0., 0., 0.]),\n",
              "  array([0., 0., 0., 0., 1., 0., 0., 0., 0., 0.]),\n",
              "  array([0., 0., 0., 1., 0., 0., 0., 0., 0., 0.]),\n",
              "  array([0., 0., 0., 0., 0., 1., 0., 0., 0., 0.]),\n",
              "  array([0., 0., 0., 1., 0., 0., 0., 0., 0., 0.]),\n",
              "  array([0., 0., 0., 0., 0., 1., 0., 0., 0., 0.]),\n",
              "  array([0., 1., 0., 0., 0., 0., 0., 0., 0., 0.]),\n",
              "  array([0., 1., 0., 0., 0., 0., 0., 0., 0., 0.]),\n",
              "  array([0., 0., 0., 0., 1., 0., 0., 0., 0., 0.]),\n",
              "  array([0., 0., 0., 0., 1., 0., 0., 0., 0., 0.]),\n",
              "  array([0., 0., 0., 1., 0., 0., 0., 0., 0., 0.]),\n",
              "  array([0., 0., 0., 0., 1., 0., 0., 0., 0., 0.]),\n",
              "  array([0., 0., 0., 0., 0., 1., 0., 0., 0., 0.]),\n",
              "  array([0., 0., 0., 0., 0., 0., 0., 0., 1., 0.]),\n",
              "  array([0., 0., 0., 0., 1., 0., 0., 0., 0., 0.]),\n",
              "  array([0., 0., 0., 1., 0., 0., 0., 0., 0., 0.]),\n",
              "  array([0., 0., 1., 0., 0., 0., 0., 0., 0., 0.]),\n",
              "  array([0., 0., 0., 1., 0., 0., 0., 0., 0., 0.]),\n",
              "  array([0., 0., 0., 1., 0., 0., 0., 0., 0., 0.]),\n",
              "  array([0., 0., 0., 0., 0., 0., 1., 0., 0., 0.]),\n",
              "  array([0., 0., 0., 0., 1., 0., 0., 0., 0., 0.]),\n",
              "  array([0., 0., 0., 0., 0., 1., 0., 0., 0., 0.]),\n",
              "  array([0., 0., 0., 0., 1., 0., 0., 0., 0., 0.]),\n",
              "  array([0., 0., 0., 1., 0., 0., 0., 0., 0., 0.]),\n",
              "  array([0., 0., 0., 1., 0., 0., 0., 0., 0., 0.]),\n",
              "  array([0., 0., 0., 0., 0., 1., 0., 0., 0., 0.]),\n",
              "  array([0., 0., 0., 0., 0., 0., 0., 1., 0., 0.]),\n",
              "  array([0., 0., 0., 1., 0., 0., 0., 0., 0., 0.]),\n",
              "  array([0., 0., 0., 0., 1., 0., 0., 0., 0., 0.]),\n",
              "  array([0., 0., 0., 0., 1., 0., 0., 0., 0., 0.]),\n",
              "  array([0., 0., 0., 0., 0., 0., 1., 0., 0., 0.]),\n",
              "  array([0., 0., 0., 1., 0., 0., 0., 0., 0., 0.]),\n",
              "  array([0., 0., 0., 0., 1., 0., 0., 0., 0., 0.]),\n",
              "  array([0., 0., 1., 0., 0., 0., 0., 0., 0., 0.]),\n",
              "  array([0., 0., 0., 0., 1., 0., 0., 0., 0., 0.]),\n",
              "  array([0., 0., 0., 1., 0., 0., 0., 0., 0., 0.]),\n",
              "  array([0., 0., 0., 0., 1., 0., 0., 0., 0., 0.]),\n",
              "  array([0., 0., 0., 1., 0., 0., 0., 0., 0., 0.]),\n",
              "  array([0., 0., 0., 1., 0., 0., 0., 0., 0., 0.]),\n",
              "  array([0., 0., 0., 0., 0., 0., 0., 0., 1., 0.]),\n",
              "  array([1., 0., 0., 0., 0., 0., 0., 0., 0., 0.]),\n",
              "  array([0., 0., 1., 0., 0., 0., 0., 0., 0., 0.]),\n",
              "  array([0., 0., 0., 1., 0., 0., 0., 0., 0., 0.]),\n",
              "  array([0., 0., 0., 1., 0., 0., 0., 0., 0., 0.]),\n",
              "  array([0., 0., 0., 0., 0., 0., 0., 0., 1., 0.]),\n",
              "  array([0., 0., 0., 1., 0., 0., 0., 0., 0., 0.]),\n",
              "  array([0., 0., 1., 0., 0., 0., 0., 0., 0., 0.]),\n",
              "  array([0., 0., 0., 0., 0., 0., 0., 1., 0., 0.]),\n",
              "  array([0., 0., 0., 0., 1., 0., 0., 0., 0., 0.]),\n",
              "  array([0., 0., 0., 0., 0., 1., 0., 0., 0., 0.]),\n",
              "  array([0., 0., 0., 0., 1., 0., 0., 0., 0., 0.]),\n",
              "  array([0., 0., 0., 0., 0., 0., 1., 0., 0., 0.]),\n",
              "  array([0., 0., 0., 0., 0., 1., 0., 0., 0., 0.]),\n",
              "  array([0., 0., 0., 0., 1., 0., 0., 0., 0., 0.]),\n",
              "  array([0., 0., 0., 0., 1., 0., 0., 0., 0., 0.]),\n",
              "  array([0., 0., 0., 0., 0., 1., 0., 0., 0., 0.]),\n",
              "  array([0., 0., 0., 0., 0., 0., 1., 0., 0., 0.]),\n",
              "  array([0., 0., 1., 0., 0., 0., 0., 0., 0., 0.]),\n",
              "  array([0., 0., 0., 0., 1., 0., 0., 0., 0., 0.]),\n",
              "  array([0., 0., 0., 0., 1., 0., 0., 0., 0., 0.]),\n",
              "  array([0., 0., 0., 1., 0., 0., 0., 0., 0., 0.]),\n",
              "  array([0., 0., 0., 0., 0., 1., 0., 0., 0., 0.]),\n",
              "  array([0., 0., 0., 0., 1., 0., 0., 0., 0., 0.]),\n",
              "  array([0., 0., 0., 0., 0., 0., 1., 0., 0., 0.]),\n",
              "  array([0., 0., 0., 0., 0., 0., 1., 0., 0., 0.]),\n",
              "  array([0., 0., 0., 1., 0., 0., 0., 0., 0., 0.]),\n",
              "  array([0., 0., 0., 0., 1., 0., 0., 0., 0., 0.]),\n",
              "  array([0., 0., 0., 0., 0., 1., 0., 0., 0., 0.]),\n",
              "  array([0., 0., 0., 0., 1., 0., 0., 0., 0., 0.]),\n",
              "  array([0., 0., 0., 0., 0., 1., 0., 0., 0., 0.]),\n",
              "  array([0., 0., 0., 0., 0., 1., 0., 0., 0., 0.]),\n",
              "  array([0., 0., 0., 0., 1., 0., 0., 0., 0., 0.]),\n",
              "  array([0., 0., 0., 0., 0., 1., 0., 0., 0., 0.]),\n",
              "  array([0., 0., 0., 0., 1., 0., 0., 0., 0., 0.]),\n",
              "  array([0., 0., 0., 0., 1., 0., 0., 0., 0., 0.]),\n",
              "  array([0., 0., 1., 0., 0., 0., 0., 0., 0., 0.]),\n",
              "  array([0., 0., 1., 0., 0., 0., 0., 0., 0., 0.]),\n",
              "  array([0., 0., 0., 0., 0., 0., 1., 0., 0., 0.]),\n",
              "  array([0., 0., 0., 0., 0., 0., 1., 0., 0., 0.]),\n",
              "  array([0., 0., 0., 0., 0., 1., 0., 0., 0., 0.]),\n",
              "  array([0., 0., 0., 0., 0., 0., 0., 0., 1., 0.]),\n",
              "  array([0., 0., 0., 1., 0., 0., 0., 0., 0., 0.]),\n",
              "  array([0., 0., 0., 0., 0., 1., 0., 0., 0., 0.]),\n",
              "  array([0., 0., 0., 0., 0., 1., 0., 0., 0., 0.]),\n",
              "  array([0., 0., 0., 0., 0., 0., 0., 1., 0., 0.]),\n",
              "  array([0., 0., 0., 0., 0., 0., 0., 1., 0., 0.]),\n",
              "  array([0., 0., 0., 0., 1., 0., 0., 0., 0., 0.]),\n",
              "  array([0., 0., 0., 0., 0., 0., 1., 0., 0., 0.]),\n",
              "  array([0., 0., 0., 0., 1., 0., 0., 0., 0., 0.]),\n",
              "  array([0., 0., 0., 0., 0., 1., 0., 0., 0., 0.]),\n",
              "  array([0., 0., 0., 1., 0., 0., 0., 0., 0., 0.]),\n",
              "  array([0., 0., 0., 0., 1., 0., 0., 0., 0., 0.]),\n",
              "  array([0., 0., 0., 0., 0., 0., 1., 0., 0., 0.]),\n",
              "  array([0., 0., 0., 0., 0., 1., 0., 0., 0., 0.]),\n",
              "  array([0., 0., 0., 1., 0., 0., 0., 0., 0., 0.]),\n",
              "  array([0., 0., 0., 1., 0., 0., 0., 0., 0., 0.]),\n",
              "  array([0., 0., 0., 0., 0., 1., 0., 0., 0., 0.]),\n",
              "  array([0., 0., 0., 0., 0., 1., 0., 0., 0., 0.]),\n",
              "  array([0., 0., 0., 0., 1., 0., 0., 0., 0., 0.]),\n",
              "  array([0., 0., 0., 0., 0., 0., 1., 0., 0., 0.]),\n",
              "  array([0., 0., 0., 0., 1., 0., 0., 0., 0., 0.]),\n",
              "  array([0., 1., 0., 0., 0., 0., 0., 0., 0., 0.]),\n",
              "  array([0., 0., 0., 1., 0., 0., 0., 0., 0., 0.]),\n",
              "  array([0., 0., 0., 0., 1., 0., 0., 0., 0., 0.]),\n",
              "  array([0., 0., 0., 1., 0., 0., 0., 0., 0., 0.]),\n",
              "  array([0., 0., 0., 0., 0., 0., 1., 0., 0., 0.]),\n",
              "  array([0., 0., 0., 1., 0., 0., 0., 0., 0., 0.]),\n",
              "  array([0., 0., 0., 0., 0., 0., 1., 0., 0., 0.]),\n",
              "  array([0., 0., 0., 0., 0., 0., 0., 1., 0., 0.]),\n",
              "  array([0., 0., 0., 0., 0., 1., 0., 0., 0., 0.]),\n",
              "  array([0., 0., 0., 0., 0., 0., 1., 0., 0., 0.]),\n",
              "  array([0., 0., 0., 1., 0., 0., 0., 0., 0., 0.]),\n",
              "  array([0., 0., 0., 0., 0., 1., 0., 0., 0., 0.]),\n",
              "  array([0., 0., 0., 0., 0., 0., 1., 0., 0., 0.]),\n",
              "  array([0., 0., 0., 0., 1., 0., 0., 0., 0., 0.]),\n",
              "  array([0., 0., 0., 0., 1., 0., 0., 0., 0., 0.]),\n",
              "  array([0., 0., 1., 0., 0., 0., 0., 0., 0., 0.]),\n",
              "  array([0., 0., 0., 0., 0., 1., 0., 0., 0., 0.]),\n",
              "  array([0., 0., 0., 1., 0., 0., 0., 0., 0., 0.]),\n",
              "  array([0., 1., 0., 0., 0., 0., 0., 0., 0., 0.]),\n",
              "  array([0., 0., 0., 0., 0., 1., 0., 0., 0., 0.]),\n",
              "  array([0., 0., 0., 0., 0., 1., 0., 0., 0., 0.]),\n",
              "  array([0., 0., 0., 0., 1., 0., 0., 0., 0., 0.]),\n",
              "  array([0., 0., 0., 1., 0., 0., 0., 0., 0., 0.]),\n",
              "  array([0., 0., 0., 0., 0., 1., 0., 0., 0., 0.]),\n",
              "  array([0., 0., 0., 0., 1., 0., 0., 0., 0., 0.]),\n",
              "  array([0., 0., 0., 0., 1., 0., 0., 0., 0., 0.]),\n",
              "  array([0., 0., 0., 0., 1., 0., 0., 0., 0., 0.]),\n",
              "  array([0., 0., 0., 1., 0., 0., 0., 0., 0., 0.]),\n",
              "  array([0., 0., 0., 1., 0., 0., 0., 0., 0., 0.]),\n",
              "  array([0., 0., 0., 0., 0., 0., 1., 0., 0., 0.]),\n",
              "  array([0., 0., 0., 0., 0., 1., 0., 0., 0., 0.]),\n",
              "  array([0., 0., 0., 1., 0., 0., 0., 0., 0., 0.]),\n",
              "  array([0., 0., 0., 1., 0., 0., 0., 0., 0., 0.]),\n",
              "  array([0., 0., 0., 1., 0., 0., 0., 0., 0., 0.]),\n",
              "  array([0., 0., 0., 1., 0., 0., 0., 0., 0., 0.]),\n",
              "  array([0., 0., 0., 0., 0., 1., 0., 0., 0., 0.]),\n",
              "  array([0., 0., 0., 0., 1., 0., 0., 0., 0., 0.]),\n",
              "  array([0., 0., 0., 0., 0., 1., 0., 0., 0., 0.]),\n",
              "  array([0., 0., 0., 0., 1., 0., 0., 0., 0., 0.]),\n",
              "  array([0., 0., 0., 1., 0., 0., 0., 0., 0., 0.]),\n",
              "  array([0., 0., 0., 0., 1., 0., 0., 0., 0., 0.]),\n",
              "  array([0., 0., 0., 0., 0., 1., 0., 0., 0., 0.]),\n",
              "  array([0., 0., 0., 0., 0., 1., 0., 0., 0., 0.]),\n",
              "  array([0., 0., 0., 0., 1., 0., 0., 0., 0., 0.]),\n",
              "  array([0., 0., 0., 0., 0., 1., 0., 0., 0., 0.]),\n",
              "  array([0., 0., 0., 0., 1., 0., 0., 0., 0., 0.]),\n",
              "  array([0., 0., 0., 0., 0., 1., 0., 0., 0., 0.]),\n",
              "  array([0., 0., 1., 0., 0., 0., 0., 0., 0., 0.]),\n",
              "  array([0., 0., 0., 1., 0., 0., 0., 0., 0., 0.]),\n",
              "  array([0., 0., 0., 0., 1., 0., 0., 0., 0., 0.]),\n",
              "  array([0., 0., 0., 0., 0., 1., 0., 0., 0., 0.]),\n",
              "  array([0., 0., 0., 0., 0., 1., 0., 0., 0., 0.]),\n",
              "  array([0., 0., 0., 0., 0., 0., 1., 0., 0., 0.]),\n",
              "  array([0., 0., 0., 0., 0., 1., 0., 0., 0., 0.]),\n",
              "  array([0., 0., 0., 0., 0., 1., 0., 0., 0., 0.]),\n",
              "  array([0., 0., 0., 0., 1., 0., 0., 0., 0., 0.]),\n",
              "  array([0., 0., 0., 1., 0., 0., 0., 0., 0., 0.]),\n",
              "  array([0., 0., 0., 0., 1., 0., 0., 0., 0., 0.]),\n",
              "  array([0., 0., 0., 0., 0., 1., 0., 0., 0., 0.]),\n",
              "  array([0., 0., 0., 0., 1., 0., 0., 0., 0., 0.]),\n",
              "  array([0., 0., 0., 0., 0., 0., 1., 0., 0., 0.]),\n",
              "  array([0., 0., 0., 0., 0., 0., 1., 0., 0., 0.]),\n",
              "  array([0., 0., 0., 1., 0., 0., 0., 0., 0., 0.]),\n",
              "  array([0., 0., 0., 1., 0., 0., 0., 0., 0., 0.]),\n",
              "  array([0., 0., 0., 0., 0., 1., 0., 0., 0., 0.]),\n",
              "  array([0., 0., 0., 0., 0., 0., 1., 0., 0., 0.]),\n",
              "  array([0., 0., 0., 1., 0., 0., 0., 0., 0., 0.]),\n",
              "  array([0., 0., 0., 0., 1., 0., 0., 0., 0., 0.]),\n",
              "  array([0., 0., 0., 1., 0., 0., 0., 0., 0., 0.]),\n",
              "  array([0., 0., 0., 0., 0., 0., 1., 0., 0., 0.]),\n",
              "  array([0., 0., 0., 0., 1., 0., 0., 0., 0., 0.]),\n",
              "  array([0., 0., 0., 0., 1., 0., 0., 0., 0., 0.]),\n",
              "  array([0., 0., 0., 0., 1., 0., 0., 0., 0., 0.]),\n",
              "  array([0., 0., 1., 0., 0., 0., 0., 0., 0., 0.]),\n",
              "  array([0., 0., 1., 0., 0., 0., 0., 0., 0., 0.]),\n",
              "  array([0., 0., 0., 0., 1., 0., 0., 0., 0., 0.]),\n",
              "  array([0., 0., 0., 0., 1., 0., 0., 0., 0., 0.]),\n",
              "  array([0., 0., 1., 0., 0., 0., 0., 0., 0., 0.]),\n",
              "  array([0., 0., 0., 0., 0., 0., 1., 0., 0., 0.]),\n",
              "  array([0., 0., 0., 0., 0., 0., 0., 1., 0., 0.]),\n",
              "  array([0., 0., 0., 0., 0., 1., 0., 0., 0., 0.]),\n",
              "  array([0., 0., 0., 0., 0., 1., 0., 0., 0., 0.]),\n",
              "  array([0., 0., 0., 1., 0., 0., 0., 0., 0., 0.]),\n",
              "  array([0., 0., 0., 0., 1., 0., 0., 0., 0., 0.]),\n",
              "  array([0., 0., 0., 0., 1., 0., 0., 0., 0., 0.]),\n",
              "  array([0., 0., 0., 1., 0., 0., 0., 0., 0., 0.]),\n",
              "  array([0., 0., 0., 0., 0., 0., 1., 0., 0., 0.]),\n",
              "  array([1., 0., 0., 0., 0., 0., 0., 0., 0., 0.]),\n",
              "  array([0., 0., 0., 0., 0., 0., 1., 0., 0., 0.]),\n",
              "  array([0., 0., 0., 0., 0., 1., 0., 0., 0., 0.]),\n",
              "  array([0., 0., 0., 0., 1., 0., 0., 0., 0., 0.]),\n",
              "  array([0., 0., 0., 0., 1., 0., 0., 0., 0., 0.]),\n",
              "  array([0., 0., 0., 0., 0., 1., 0., 0., 0., 0.]),\n",
              "  array([0., 0., 0., 0., 0., 0., 1., 0., 0., 0.]),\n",
              "  array([0., 0., 0., 0., 1., 0., 0., 0., 0., 0.]),\n",
              "  array([0., 1., 0., 0., 0., 0., 0., 0., 0., 0.]),\n",
              "  array([0., 0., 0., 1., 0., 0., 0., 0., 0., 0.]),\n",
              "  array([0., 0., 0., 0., 0., 0., 1., 0., 0., 0.]),\n",
              "  array([0., 0., 0., 1., 0., 0., 0., 0., 0., 0.]),\n",
              "  array([0., 0., 0., 0., 0., 1., 0., 0., 0., 0.]),\n",
              "  array([0., 0., 0., 0., 1., 0., 0., 0., 0., 0.]),\n",
              "  array([0., 0., 0., 0., 0., 0., 1., 0., 0., 0.]),\n",
              "  array([0., 0., 0., 1., 0., 0., 0., 0., 0., 0.]),\n",
              "  array([0., 0., 0., 0., 0., 1., 0., 0., 0., 0.]),\n",
              "  array([0., 0., 0., 0., 0., 1., 0., 0., 0., 0.]),\n",
              "  array([0., 0., 0., 0., 0., 0., 0., 1., 0., 0.]),\n",
              "  array([0., 0., 0., 0., 0., 0., 1., 0., 0., 0.]),\n",
              "  array([0., 0., 0., 1., 0., 0., 0., 0., 0., 0.]),\n",
              "  array([0., 0., 0., 0., 1., 0., 0., 0., 0., 0.]),\n",
              "  array([0., 0., 0., 0., 0., 1., 0., 0., 0., 0.]),\n",
              "  array([0., 0., 1., 0., 0., 0., 0., 0., 0., 0.]),\n",
              "  array([0., 0., 0., 0., 1., 0., 0., 0., 0., 0.]),\n",
              "  array([0., 0., 0., 0., 0., 0., 1., 0., 0., 0.]),\n",
              "  array([0., 0., 0., 0., 0., 0., 1., 0., 0., 0.]),\n",
              "  array([0., 0., 0., 1., 0., 0., 0., 0., 0., 0.]),\n",
              "  array([0., 0., 0., 0., 1., 0., 0., 0., 0., 0.]),\n",
              "  array([0., 0., 0., 0., 1., 0., 0., 0., 0., 0.]),\n",
              "  array([0., 0., 0., 1., 0., 0., 0., 0., 0., 0.]),\n",
              "  array([0., 0., 0., 0., 0., 0., 1., 0., 0., 0.]),\n",
              "  array([0., 0., 0., 0., 1., 0., 0., 0., 0., 0.]),\n",
              "  array([0., 0., 0., 0., 0., 1., 0., 0., 0., 0.]),\n",
              "  array([0., 0., 0., 0., 1., 0., 0., 0., 0., 0.]),\n",
              "  array([0., 0., 0., 0., 1., 0., 0., 0., 0., 0.]),\n",
              "  array([0., 0., 0., 1., 0., 0., 0., 0., 0., 0.]),\n",
              "  array([0., 0., 0., 0., 0., 0., 0., 1., 0., 0.]),\n",
              "  array([0., 0., 0., 0., 1., 0., 0., 0., 0., 0.]),\n",
              "  array([0., 0., 0., 0., 1., 0., 0., 0., 0., 0.]),\n",
              "  array([0., 0., 0., 0., 0., 1., 0., 0., 0., 0.]),\n",
              "  array([0., 1., 0., 0., 0., 0., 0., 0., 0., 0.]),\n",
              "  array([0., 0., 1., 0., 0., 0., 0., 0., 0., 0.]),\n",
              "  array([0., 0., 0., 0., 0., 0., 0., 1., 0., 0.]),\n",
              "  array([0., 0., 0., 0., 1., 0., 0., 0., 0., 0.]),\n",
              "  array([0., 0., 0., 0., 1., 0., 0., 0., 0., 0.]),\n",
              "  array([0., 0., 0., 0., 0., 1., 0., 0., 0., 0.]),\n",
              "  array([0., 0., 0., 0., 0., 1., 0., 0., 0., 0.]),\n",
              "  array([0., 0., 0., 0., 1., 0., 0., 0., 0., 0.]),\n",
              "  array([0., 0., 0., 0., 0., 0., 0., 1., 0., 0.]),\n",
              "  array([0., 0., 0., 0., 0., 1., 0., 0., 0., 0.]),\n",
              "  array([0., 0., 0., 1., 0., 0., 0., 0., 0., 0.]),\n",
              "  array([0., 0., 0., 0., 1., 0., 0., 0., 0., 0.]),\n",
              "  array([0., 0., 0., 0., 0., 1., 0., 0., 0., 0.]),\n",
              "  array([0., 0., 0., 0., 1., 0., 0., 0., 0., 0.]),\n",
              "  array([0., 0., 0., 0., 1., 0., 0., 0., 0., 0.]),\n",
              "  array([0., 0., 0., 0., 0., 0., 1., 0., 0., 0.]),\n",
              "  array([0., 0., 0., 0., 0., 1., 0., 0., 0., 0.]),\n",
              "  array([0., 0., 1., 0., 0., 0., 0., 0., 0., 0.]),\n",
              "  array([0., 0., 0., 0., 0., 0., 1., 0., 0., 0.]),\n",
              "  array([0., 0., 0., 0., 1., 0., 0., 0., 0., 0.]),\n",
              "  array([0., 0., 0., 0., 1., 0., 0., 0., 0., 0.]),\n",
              "  array([0., 0., 0., 0., 1., 0., 0., 0., 0., 0.]),\n",
              "  array([0., 0., 0., 0., 1., 0., 0., 0., 0., 0.]),\n",
              "  array([0., 0., 0., 0., 0., 1., 0., 0., 0., 0.]),\n",
              "  array([0., 0., 0., 0., 1., 0., 0., 0., 0., 0.]),\n",
              "  array([0., 0., 1., 0., 0., 0., 0., 0., 0., 0.]),\n",
              "  array([0., 0., 0., 0., 1., 0., 0., 0., 0., 0.]),\n",
              "  array([0., 0., 0., 0., 0., 1., 0., 0., 0., 0.]),\n",
              "  array([0., 0., 0., 1., 0., 0., 0., 0., 0., 0.]),\n",
              "  array([0., 0., 0., 0., 0., 1., 0., 0., 0., 0.]),\n",
              "  array([0., 0., 0., 0., 0., 1., 0., 0., 0., 0.]),\n",
              "  array([0., 0., 1., 0., 0., 0., 0., 0., 0., 0.]),\n",
              "  array([0., 0., 1., 0., 0., 0., 0., 0., 0., 0.]),\n",
              "  array([0., 0., 0., 0., 1., 0., 0., 0., 0., 0.]),\n",
              "  array([0., 0., 1., 0., 0., 0., 0., 0., 0., 0.]),\n",
              "  array([0., 0., 0., 0., 1., 0., 0., 0., 0., 0.]),\n",
              "  array([0., 0., 0., 0., 1., 0., 0., 0., 0., 0.]),\n",
              "  array([0., 0., 1., 0., 0., 0., 0., 0., 0., 0.]),\n",
              "  array([0., 0., 0., 0., 0., 1., 0., 0., 0., 0.]),\n",
              "  array([0., 0., 0., 0., 1., 0., 0., 0., 0., 0.]),\n",
              "  array([0., 0., 0., 0., 1., 0., 0., 0., 0., 0.]),\n",
              "  array([0., 0., 0., 0., 0., 1., 0., 0., 0., 0.]),\n",
              "  array([0., 0., 0., 0., 0., 0., 1., 0., 0., 0.]),\n",
              "  array([0., 0., 0., 0., 1., 0., 0., 0., 0., 0.]),\n",
              "  array([0., 0., 0., 0., 1., 0., 0., 0., 0., 0.]),\n",
              "  array([0., 0., 1., 0., 0., 0., 0., 0., 0., 0.]),\n",
              "  array([0., 0., 0., 1., 0., 0., 0., 0., 0., 0.]),\n",
              "  array([0., 0., 0., 0., 1., 0., 0., 0., 0., 0.]),\n",
              "  array([0., 0., 0., 1., 0., 0., 0., 0., 0., 0.]),\n",
              "  array([0., 0., 0., 1., 0., 0., 0., 0., 0., 0.]),\n",
              "  array([0., 0., 0., 0., 1., 0., 0., 0., 0., 0.]),\n",
              "  array([0., 0., 1., 0., 0., 0., 0., 0., 0., 0.]),\n",
              "  array([0., 0., 0., 0., 0., 0., 1., 0., 0., 0.]),\n",
              "  array([0., 0., 0., 0., 1., 0., 0., 0., 0., 0.]),\n",
              "  array([0., 0., 0., 0., 0., 1., 0., 0., 0., 0.]),\n",
              "  array([0., 0., 0., 0., 1., 0., 0., 0., 0., 0.]),\n",
              "  array([0., 0., 0., 0., 1., 0., 0., 0., 0., 0.]),\n",
              "  array([0., 0., 0., 0., 1., 0., 0., 0., 0., 0.]),\n",
              "  array([0., 0., 0., 0., 0., 0., 0., 0., 0., 1.]),\n",
              "  array([0., 0., 0., 0., 0., 1., 0., 0., 0., 0.]),\n",
              "  array([0., 0., 0., 0., 1., 0., 0., 0., 0., 0.]),\n",
              "  array([0., 0., 0., 0., 0., 1., 0., 0., 0., 0.]),\n",
              "  array([0., 0., 1., 0., 0., 0., 0., 0., 0., 0.]),\n",
              "  array([0., 0., 0., 1., 0., 0., 0., 0., 0., 0.]),\n",
              "  array([0., 0., 0., 0., 0., 1., 0., 0., 0., 0.]),\n",
              "  array([0., 1., 0., 0., 0., 0., 0., 0., 0., 0.]),\n",
              "  array([0., 0., 0., 0., 0., 1., 0., 0., 0., 0.]),\n",
              "  array([0., 0., 0., 0., 0., 0., 1., 0., 0., 0.]),\n",
              "  array([0., 0., 0., 1., 0., 0., 0., 0., 0., 0.]),\n",
              "  array([0., 0., 0., 0., 0., 1., 0., 0., 0., 0.]),\n",
              "  array([0., 0., 0., 0., 1., 0., 0., 0., 0., 0.]),\n",
              "  array([0., 0., 0., 0., 1., 0., 0., 0., 0., 0.]),\n",
              "  array([0., 0., 0., 1., 0., 0., 0., 0., 0., 0.]),\n",
              "  array([0., 0., 0., 0., 1., 0., 0., 0., 0., 0.]),\n",
              "  array([0., 0., 0., 1., 0., 0., 0., 0., 0., 0.]),\n",
              "  array([0., 0., 0., 0., 0., 1., 0., 0., 0., 0.]),\n",
              "  array([0., 0., 0., 0., 0., 0., 1., 0., 0., 0.]),\n",
              "  array([0., 0., 0., 0., 1., 0., 0., 0., 0., 0.]),\n",
              "  array([0., 0., 0., 0., 1., 0., 0., 0., 0., 0.]),\n",
              "  array([0., 0., 0., 1., 0., 0., 0., 0., 0., 0.]),\n",
              "  array([0., 0., 0., 0., 0., 1., 0., 0., 0., 0.]),\n",
              "  array([0., 0., 0., 0., 0., 1., 0., 0., 0., 0.]),\n",
              "  array([0., 0., 0., 0., 1., 0., 0., 0., 0., 0.]),\n",
              "  array([0., 0., 0., 1., 0., 0., 0., 0., 0., 0.]),\n",
              "  array([0., 0., 0., 0., 0., 0., 0., 1., 0., 0.]),\n",
              "  array([0., 0., 1., 0., 0., 0., 0., 0., 0., 0.]),\n",
              "  array([0., 0., 0., 0., 0., 0., 1., 0., 0., 0.]),\n",
              "  array([0., 0., 0., 0., 0., 0., 0., 1., 0., 0.]),\n",
              "  array([0., 0., 0., 1., 0., 0., 0., 0., 0., 0.]),\n",
              "  array([0., 0., 0., 0., 0., 1., 0., 0., 0., 0.]),\n",
              "  array([0., 1., 0., 0., 0., 0., 0., 0., 0., 0.]),\n",
              "  array([0., 0., 0., 0., 0., 1., 0., 0., 0., 0.]),\n",
              "  array([0., 0., 0., 0., 1., 0., 0., 0., 0., 0.]),\n",
              "  array([0., 0., 0., 1., 0., 0., 0., 0., 0., 0.]),\n",
              "  array([0., 0., 0., 1., 0., 0., 0., 0., 0., 0.]),\n",
              "  array([0., 0., 0., 0., 1., 0., 0., 0., 0., 0.]),\n",
              "  array([0., 0., 0., 0., 0., 1., 0., 0., 0., 0.]),\n",
              "  array([0., 0., 0., 1., 0., 0., 0., 0., 0., 0.]),\n",
              "  array([0., 0., 0., 0., 0., 1., 0., 0., 0., 0.]),\n",
              "  array([0., 0., 0., 0., 0., 0., 1., 0., 0., 0.]),\n",
              "  array([0., 0., 0., 1., 0., 0., 0., 0., 0., 0.]),\n",
              "  array([0., 0., 0., 1., 0., 0., 0., 0., 0., 0.]),\n",
              "  array([0., 0., 0., 0., 0., 1., 0., 0., 0., 0.]),\n",
              "  array([0., 0., 0., 0., 0., 0., 1., 0., 0., 0.]),\n",
              "  array([0., 0., 1., 0., 0., 0., 0., 0., 0., 0.]),\n",
              "  array([0., 0., 0., 0., 1., 0., 0., 0., 0., 0.]),\n",
              "  array([0., 0., 0., 0., 0., 1., 0., 0., 0., 0.]),\n",
              "  array([0., 0., 0., 0., 0., 0., 1., 0., 0., 0.]),\n",
              "  array([0., 0., 0., 1., 0., 0., 0., 0., 0., 0.]),\n",
              "  array([0., 0., 0., 0., 0., 1., 0., 0., 0., 0.]),\n",
              "  array([0., 0., 0., 0., 0., 0., 1., 0., 0., 0.]),\n",
              "  array([0., 0., 0., 0., 1., 0., 0., 0., 0., 0.]),\n",
              "  array([0., 0., 1., 0., 0., 0., 0., 0., 0., 0.]),\n",
              "  array([0., 0., 0., 1., 0., 0., 0., 0., 0., 0.]),\n",
              "  array([0., 0., 0., 0., 0., 1., 0., 0., 0., 0.]),\n",
              "  array([0., 0., 0., 0., 1., 0., 0., 0., 0., 0.]),\n",
              "  array([0., 0., 0., 0., 1., 0., 0., 0., 0., 0.]),\n",
              "  array([0., 0., 0., 0., 0., 1., 0., 0., 0., 0.]),\n",
              "  array([0., 0., 0., 0., 1., 0., 0., 0., 0., 0.]),\n",
              "  array([0., 0., 1., 0., 0., 0., 0., 0., 0., 0.]),\n",
              "  array([0., 0., 0., 0., 1., 0., 0., 0., 0., 0.]),\n",
              "  array([0., 0., 0., 0., 0., 1., 0., 0., 0., 0.]),\n",
              "  array([0., 1., 0., 0., 0., 0., 0., 0., 0., 0.]),\n",
              "  array([0., 0., 1., 0., 0., 0., 0., 0., 0., 0.]),\n",
              "  array([0., 0., 0., 0., 0., 1., 0., 0., 0., 0.]),\n",
              "  array([0., 0., 0., 0., 1., 0., 0., 0., 0., 0.]),\n",
              "  array([0., 0., 0., 0., 0., 1., 0., 0., 0., 0.]),\n",
              "  array([0., 0., 0., 0., 1., 0., 0., 0., 0., 0.]),\n",
              "  array([0., 0., 0., 0., 1., 0., 0., 0., 0., 0.]),\n",
              "  array([0., 0., 1., 0., 0., 0., 0., 0., 0., 0.]),\n",
              "  array([0., 0., 0., 0., 0., 1., 0., 0., 0., 0.]),\n",
              "  array([0., 0., 0., 0., 1., 0., 0., 0., 0., 0.]),\n",
              "  array([0., 0., 0., 0., 1., 0., 0., 0., 0., 0.]),\n",
              "  array([0., 0., 0., 0., 1., 0., 0., 0., 0., 0.]),\n",
              "  array([0., 0., 0., 0., 0., 1., 0., 0., 0., 0.]),\n",
              "  array([0., 0., 1., 0., 0., 0., 0., 0., 0., 0.]),\n",
              "  array([0., 0., 0., 0., 0., 1., 0., 0., 0., 0.]),\n",
              "  array([0., 0., 0., 0., 1., 0., 0., 0., 0., 0.]),\n",
              "  array([0., 0., 0., 1., 0., 0., 0., 0., 0., 0.]),\n",
              "  array([0., 0., 0., 0., 1., 0., 0., 0., 0., 0.]),\n",
              "  array([0., 0., 0., 0., 0., 1., 0., 0., 0., 0.]),\n",
              "  array([0., 0., 0., 0., 0., 0., 0., 1., 0., 0.]),\n",
              "  array([0., 0., 0., 0., 1., 0., 0., 0., 0., 0.]),\n",
              "  array([0., 0., 0., 0., 0., 1., 0., 0., 0., 0.]),\n",
              "  array([0., 0., 0., 0., 0., 1., 0., 0., 0., 0.]),\n",
              "  array([0., 0., 0., 0., 0., 0., 0., 1., 0., 0.]),\n",
              "  array([0., 0., 1., 0., 0., 0., 0., 0., 0., 0.]),\n",
              "  array([0., 0., 0., 0., 1., 0., 0., 0., 0., 0.]),\n",
              "  array([0., 0., 1., 0., 0., 0., 0., 0., 0., 0.]),\n",
              "  array([0., 0., 0., 0., 1., 0., 0., 0., 0., 0.]),\n",
              "  array([0., 0., 0., 0., 1., 0., 0., 0., 0., 0.]),\n",
              "  array([0., 0., 0., 0., 0., 1., 0., 0., 0., 0.]),\n",
              "  array([1., 0., 0., 0., 0., 0., 0., 0., 0., 0.]),\n",
              "  array([0., 0., 0., 0., 1., 0., 0., 0., 0., 0.]),\n",
              "  array([0., 0., 1., 0., 0., 0., 0., 0., 0., 0.]),\n",
              "  array([0., 0., 0., 0., 0., 0., 0., 1., 0., 0.]),\n",
              "  array([0., 0., 0., 0., 0., 1., 0., 0., 0., 0.]),\n",
              "  array([0., 0., 1., 0., 0., 0., 0., 0., 0., 0.]),\n",
              "  array([0., 0., 0., 1., 0., 0., 0., 0., 0., 0.]),\n",
              "  array([0., 0., 0., 0., 0., 1., 0., 0., 0., 0.]),\n",
              "  array([0., 0., 1., 0., 0., 0., 0., 0., 0., 0.]),\n",
              "  array([0., 0., 0., 0., 0., 0., 0., 1., 0., 0.]),\n",
              "  array([0., 0., 0., 0., 1., 0., 0., 0., 0., 0.]),\n",
              "  array([0., 0., 0., 1., 0., 0., 0., 0., 0., 0.]),\n",
              "  array([0., 0., 0., 0., 0., 1., 0., 0., 0., 0.]),\n",
              "  array([0., 0., 0., 0., 0., 0., 1., 0., 0., 0.]),\n",
              "  array([0., 0., 0., 0., 1., 0., 0., 0., 0., 0.]),\n",
              "  array([0., 0., 0., 0., 0., 1., 0., 0., 0., 0.]),\n",
              "  array([0., 0., 0., 0., 1., 0., 0., 0., 0., 0.]),\n",
              "  array([0., 0., 0., 0., 1., 0., 0., 0., 0., 0.]),\n",
              "  array([0., 0., 0., 0., 1., 0., 0., 0., 0., 0.]),\n",
              "  array([0., 0., 0., 0., 0., 1., 0., 0., 0., 0.]),\n",
              "  array([0., 0., 0., 0., 0., 1., 0., 0., 0., 0.]),\n",
              "  array([0., 0., 0., 1., 0., 0., 0., 0., 0., 0.]),\n",
              "  array([0., 0., 0., 0., 0., 0., 1., 0., 0., 0.]),\n",
              "  array([0., 0., 0., 1., 0., 0., 0., 0., 0., 0.]),\n",
              "  array([0., 0., 0., 1., 0., 0., 0., 0., 0., 0.]),\n",
              "  array([0., 0., 0., 0., 0., 0., 1., 0., 0., 0.]),\n",
              "  array([0., 0., 1., 0., 0., 0., 0., 0., 0., 0.]),\n",
              "  array([0., 0., 0., 0., 0., 0., 1., 0., 0., 0.]),\n",
              "  array([0., 0., 0., 0., 1., 0., 0., 0., 0., 0.]),\n",
              "  array([0., 0., 0., 0., 0., 0., 1., 0., 0., 0.]),\n",
              "  array([0., 0., 0., 0., 0., 0., 1., 0., 0., 0.]),\n",
              "  array([0., 0., 1., 0., 0., 0., 0., 0., 0., 0.]),\n",
              "  array([0., 0., 0., 1., 0., 0., 0., 0., 0., 0.]),\n",
              "  array([0., 0., 0., 1., 0., 0., 0., 0., 0., 0.]),\n",
              "  array([0., 0., 0., 0., 1., 0., 0., 0., 0., 0.]),\n",
              "  array([0., 0., 0., 0., 1., 0., 0., 0., 0., 0.]),\n",
              "  array([0., 0., 0., 0., 0., 0., 1., 0., 0., 0.]),\n",
              "  array([0., 0., 0., 1., 0., 0., 0., 0., 0., 0.]),\n",
              "  array([0., 0., 0., 0., 1., 0., 0., 0., 0., 0.]),\n",
              "  array([0., 0., 0., 0., 1., 0., 0., 0., 0., 0.]),\n",
              "  array([0., 0., 0., 1., 0., 0., 0., 0., 0., 0.]),\n",
              "  array([0., 0., 0., 1., 0., 0., 0., 0., 0., 0.]),\n",
              "  array([0., 0., 0., 0., 1., 0., 0., 0., 0., 0.]),\n",
              "  array([0., 0., 0., 0., 0., 1., 0., 0., 0., 0.]),\n",
              "  array([0., 0., 0., 0., 0., 0., 0., 0., 1., 0.]),\n",
              "  array([0., 0., 0., 0., 0., 1., 0., 0., 0., 0.]),\n",
              "  array([0., 0., 0., 0., 0., 1., 0., 0., 0., 0.]),\n",
              "  array([0., 0., 0., 1., 0., 0., 0., 0., 0., 0.]),\n",
              "  array([0., 0., 0., 0., 0., 1., 0., 0., 0., 0.]),\n",
              "  array([0., 0., 0., 0., 1., 0., 0., 0., 0., 0.]),\n",
              "  array([0., 0., 1., 0., 0., 0., 0., 0., 0., 0.]),\n",
              "  array([0., 0., 0., 1., 0., 0., 0., 0., 0., 0.]),\n",
              "  array([0., 0., 1., 0., 0., 0., 0., 0., 0., 0.]),\n",
              "  array([0., 0., 0., 0., 0., 1., 0., 0., 0., 0.]),\n",
              "  array([0., 0., 0., 0., 0., 0., 1., 0., 0., 0.]),\n",
              "  array([0., 1., 0., 0., 0., 0., 0., 0., 0., 0.]),\n",
              "  array([0., 0., 0., 0., 0., 1., 0., 0., 0., 0.]),\n",
              "  array([0., 1., 0., 0., 0., 0., 0., 0., 0., 0.]),\n",
              "  array([0., 0., 0., 0., 0., 0., 1., 0., 0., 0.]),\n",
              "  array([0., 0., 0., 0., 0., 0., 1., 0., 0., 0.]),\n",
              "  array([0., 0., 0., 0., 1., 0., 0., 0., 0., 0.]),\n",
              "  array([0., 0., 0., 0., 0., 1., 0., 0., 0., 0.]),\n",
              "  array([0., 0., 0., 0., 0., 0., 0., 1., 0., 0.]),\n",
              "  array([0., 0., 0., 0., 0., 1., 0., 0., 0., 0.]),\n",
              "  array([0., 0., 0., 1., 0., 0., 0., 0., 0., 0.]),\n",
              "  array([0., 0., 0., 0., 0., 0., 1., 0., 0., 0.]),\n",
              "  array([0., 0., 0., 0., 0., 1., 0., 0., 0., 0.]),\n",
              "  array([0., 0., 0., 0., 0., 1., 0., 0., 0., 0.]),\n",
              "  array([0., 0., 0., 0., 0., 1., 0., 0., 0., 0.]),\n",
              "  array([0., 0., 0., 0., 1., 0., 0., 0., 0., 0.]),\n",
              "  array([0., 0., 0., 1., 0., 0., 0., 0., 0., 0.]),\n",
              "  array([0., 0., 0., 0., 0., 1., 0., 0., 0., 0.]),\n",
              "  array([0., 0., 0., 0., 0., 0., 1., 0., 0., 0.]),\n",
              "  array([0., 0., 0., 1., 0., 0., 0., 0., 0., 0.]),\n",
              "  array([0., 0., 0., 0., 0., 1., 0., 0., 0., 0.]),\n",
              "  array([0., 0., 0., 0., 1., 0., 0., 0., 0., 0.]),\n",
              "  array([0., 0., 0., 0., 0., 0., 1., 0., 0., 0.]),\n",
              "  array([0., 0., 0., 0., 1., 0., 0., 0., 0., 0.]),\n",
              "  array([0., 0., 0., 0., 1., 0., 0., 0., 0., 0.]),\n",
              "  array([0., 0., 0., 0., 0., 1., 0., 0., 0., 0.]),\n",
              "  array([0., 0., 0., 0., 1., 0., 0., 0., 0., 0.]),\n",
              "  array([0., 0., 0., 0., 0., 1., 0., 0., 0., 0.]),\n",
              "  array([0., 0., 0., 0., 1., 0., 0., 0., 0., 0.]),\n",
              "  array([0., 0., 0., 0., 0., 1., 0., 0., 0., 0.]),\n",
              "  array([0., 0., 0., 0., 0., 0., 1., 0., 0., 0.]),\n",
              "  array([0., 1., 0., 0., 0., 0., 0., 0., 0., 0.]),\n",
              "  array([0., 0., 0., 0., 0., 1., 0., 0., 0., 0.]),\n",
              "  array([0., 1., 0., 0., 0., 0., 0., 0., 0., 0.]),\n",
              "  array([0., 0., 0., 0., 0., 1., 0., 0., 0., 0.]),\n",
              "  array([0., 0., 0., 0., 0., 0., 0., 0., 1., 0.]),\n",
              "  array([0., 0., 0., 0., 1., 0., 0., 0., 0., 0.]),\n",
              "  array([0., 0., 0., 1., 0., 0., 0., 0., 0., 0.]),\n",
              "  array([0., 0., 0., 0., 1., 0., 0., 0., 0., 0.]),\n",
              "  array([0., 0., 0., 0., 0., 0., 1., 0., 0., 0.]),\n",
              "  array([0., 0., 0., 0., 1., 0., 0., 0., 0., 0.]),\n",
              "  array([0., 0., 0., 0., 1., 0., 0., 0., 0., 0.]),\n",
              "  array([0., 0., 0., 0., 1., 0., 0., 0., 0., 0.]),\n",
              "  array([0., 0., 0., 0., 0., 1., 0., 0., 0., 0.]),\n",
              "  array([0., 0., 0., 1., 0., 0., 0., 0., 0., 0.]),\n",
              "  array([0., 0., 0., 0., 1., 0., 0., 0., 0., 0.]),\n",
              "  array([0., 0., 0., 0., 0., 1., 0., 0., 0., 0.]),\n",
              "  array([0., 0., 0., 1., 0., 0., 0., 0., 0., 0.]),\n",
              "  array([0., 0., 0., 0., 1., 0., 0., 0., 0., 0.]),\n",
              "  array([0., 0., 0., 0., 0., 1., 0., 0., 0., 0.]),\n",
              "  array([0., 0., 0., 0., 1., 0., 0., 0., 0., 0.]),\n",
              "  array([0., 0., 0., 0., 0., 1., 0., 0., 0., 0.]),\n",
              "  array([0., 0., 0., 1., 0., 0., 0., 0., 0., 0.]),\n",
              "  array([0., 0., 1., 0., 0., 0., 0., 0., 0., 0.]),\n",
              "  array([0., 0., 0., 0., 1., 0., 0., 0., 0., 0.]),\n",
              "  array([0., 0., 0., 0., 1., 0., 0., 0., 0., 0.]),\n",
              "  array([0., 0., 0., 0., 0., 1., 0., 0., 0., 0.]),\n",
              "  array([0., 0., 0., 0., 0., 1., 0., 0., 0., 0.]),\n",
              "  array([0., 0., 0., 0., 1., 0., 0., 0., 0., 0.]),\n",
              "  array([0., 0., 0., 0., 1., 0., 0., 0., 0., 0.]),\n",
              "  array([0., 0., 0., 0., 0., 0., 1., 0., 0., 0.]),\n",
              "  array([0., 0., 0., 0., 1., 0., 0., 0., 0., 0.]),\n",
              "  array([0., 0., 0., 0., 1., 0., 0., 0., 0., 0.]),\n",
              "  array([0., 0., 0., 1., 0., 0., 0., 0., 0., 0.]),\n",
              "  array([0., 0., 1., 0., 0., 0., 0., 0., 0., 0.]),\n",
              "  array([0., 0., 0., 0., 0., 1., 0., 0., 0., 0.]),\n",
              "  array([0., 0., 0., 1., 0., 0., 0., 0., 0., 0.]),\n",
              "  array([0., 0., 0., 0., 0., 0., 1., 0., 0., 0.]),\n",
              "  array([0., 0., 1., 0., 0., 0., 0., 0., 0., 0.]),\n",
              "  array([0., 1., 0., 0., 0., 0., 0., 0., 0., 0.]),\n",
              "  array([0., 0., 0., 1., 0., 0., 0., 0., 0., 0.]),\n",
              "  array([0., 0., 0., 0., 0., 1., 0., 0., 0., 0.]),\n",
              "  array([0., 0., 0., 0., 0., 1., 0., 0., 0., 0.]),\n",
              "  array([0., 0., 0., 0., 0., 1., 0., 0., 0., 0.]),\n",
              "  array([0., 0., 1., 0., 0., 0., 0., 0., 0., 0.]),\n",
              "  array([0., 0., 0., 0., 0., 0., 1., 0., 0., 0.]),\n",
              "  array([0., 0., 1., 0., 0., 0., 0., 0., 0., 0.]),\n",
              "  array([0., 0., 0., 1., 0., 0., 0., 0., 0., 0.]),\n",
              "  array([0., 0., 0., 0., 1., 0., 0., 0., 0., 0.]),\n",
              "  array([0., 0., 0., 1., 0., 0., 0., 0., 0., 0.]),\n",
              "  array([0., 0., 0., 0., 0., 1., 0., 0., 0., 0.]),\n",
              "  array([1., 0., 0., 0., 0., 0., 0., 0., 0., 0.]),\n",
              "  array([0., 0., 0., 0., 1., 0., 0., 0., 0., 0.]),\n",
              "  array([0., 0., 0., 0., 0., 0., 1., 0., 0., 0.]),\n",
              "  array([0., 0., 0., 0., 0., 0., 1., 0., 0., 0.]),\n",
              "  array([0., 0., 0., 0., 0., 0., 0., 1., 0., 0.]),\n",
              "  array([0., 0., 0., 0., 1., 0., 0., 0., 0., 0.]),\n",
              "  array([0., 0., 0., 0., 0., 0., 1., 0., 0., 0.]),\n",
              "  array([0., 0., 0., 1., 0., 0., 0., 0., 0., 0.]),\n",
              "  array([0., 0., 0., 0., 1., 0., 0., 0., 0., 0.]),\n",
              "  array([0., 0., 0., 1., 0., 0., 0., 0., 0., 0.]),\n",
              "  array([0., 0., 0., 0., 0., 1., 0., 0., 0., 0.]),\n",
              "  array([0., 0., 0., 0., 1., 0., 0., 0., 0., 0.]),\n",
              "  array([0., 0., 0., 0., 0., 0., 0., 0., 1., 0.]),\n",
              "  array([0., 0., 0., 0., 0., 0., 1., 0., 0., 0.]),\n",
              "  array([0., 0., 0., 0., 0., 1., 0., 0., 0., 0.]),\n",
              "  array([0., 0., 0., 0., 0., 0., 1., 0., 0., 0.]),\n",
              "  array([0., 0., 0., 0., 0., 1., 0., 0., 0., 0.]),\n",
              "  array([0., 0., 0., 0., 0., 1., 0., 0., 0., 0.]),\n",
              "  array([0., 0., 0., 0., 1., 0., 0., 0., 0., 0.]),\n",
              "  array([0., 0., 0., 1., 0., 0., 0., 0., 0., 0.]),\n",
              "  array([0., 0., 0., 0., 1., 0., 0., 0., 0., 0.]),\n",
              "  array([0., 0., 0., 0., 1., 0., 0., 0., 0., 0.]),\n",
              "  array([0., 0., 0., 0., 0., 1., 0., 0., 0., 0.]),\n",
              "  array([0., 1., 0., 0., 0., 0., 0., 0., 0., 0.]),\n",
              "  array([0., 0., 0., 0., 0., 1., 0., 0., 0., 0.]),\n",
              "  array([0., 0., 0., 1., 0., 0., 0., 0., 0., 0.]),\n",
              "  array([0., 0., 0., 0., 1., 0., 0., 0., 0., 0.]),\n",
              "  array([0., 0., 0., 0., 0., 0., 1., 0., 0., 0.]),\n",
              "  array([0., 0., 0., 1., 0., 0., 0., 0., 0., 0.]),\n",
              "  array([0., 0., 0., 0., 1., 0., 0., 0., 0., 0.]),\n",
              "  array([1., 0., 0., 0., 0., 0., 0., 0., 0., 0.]),\n",
              "  array([0., 0., 0., 0., 0., 0., 0., 1., 0., 0.]),\n",
              "  array([0., 0., 0., 0., 0., 1., 0., 0., 0., 0.]),\n",
              "  array([0., 0., 1., 0., 0., 0., 0., 0., 0., 0.]),\n",
              "  array([0., 0., 0., 0., 0., 1., 0., 0., 0., 0.]),\n",
              "  array([0., 0., 0., 1., 0., 0., 0., 0., 0., 0.]),\n",
              "  array([0., 0., 0., 1., 0., 0., 0., 0., 0., 0.]),\n",
              "  array([0., 0., 0., 0., 0., 1., 0., 0., 0., 0.]),\n",
              "  array([0., 0., 0., 1., 0., 0., 0., 0., 0., 0.]),\n",
              "  array([0., 0., 0., 0., 0., 1., 0., 0., 0., 0.]),\n",
              "  array([0., 0., 0., 0., 1., 0., 0., 0., 0., 0.]),\n",
              "  array([0., 0., 0., 0., 0., 0., 1., 0., 0., 0.]),\n",
              "  array([0., 0., 0., 0., 0., 0., 1., 0., 0., 0.]),\n",
              "  array([0., 0., 1., 0., 0., 0., 0., 0., 0., 0.]),\n",
              "  array([0., 0., 0., 0., 0., 0., 1., 0., 0., 0.]),\n",
              "  array([0., 0., 0., 0., 0., 0., 1., 0., 0., 0.]),\n",
              "  array([0., 0., 0., 0., 1., 0., 0., 0., 0., 0.]),\n",
              "  array([0., 0., 1., 0., 0., 0., 0., 0., 0., 0.]),\n",
              "  array([0., 0., 1., 0., 0., 0., 0., 0., 0., 0.]),\n",
              "  array([0., 0., 0., 0., 0., 0., 1., 0., 0., 0.]),\n",
              "  array([0., 0., 0., 0., 1., 0., 0., 0., 0., 0.]),\n",
              "  array([0., 0., 0., 0., 0., 1., 0., 0., 0., 0.]),\n",
              "  array([0., 0., 0., 0., 1., 0., 0., 0., 0., 0.]),\n",
              "  array([0., 0., 0., 1., 0., 0., 0., 0., 0., 0.]),\n",
              "  array([0., 0., 0., 0., 0., 0., 1., 0., 0., 0.]),\n",
              "  array([0., 0., 0., 0., 0., 1., 0., 0., 0., 0.]),\n",
              "  array([0., 0., 0., 0., 1., 0., 0., 0., 0., 0.]),\n",
              "  array([0., 0., 0., 1., 0., 0., 0., 0., 0., 0.]),\n",
              "  array([0., 0., 1., 0., 0., 0., 0., 0., 0., 0.]),\n",
              "  array([0., 0., 0., 0., 1., 0., 0., 0., 0., 0.]),\n",
              "  array([0., 0., 0., 0., 0., 1., 0., 0., 0., 0.]),\n",
              "  array([0., 0., 0., 0., 0., 1., 0., 0., 0., 0.]),\n",
              "  array([0., 0., 0., 0., 0., 0., 0., 1., 0., 0.]),\n",
              "  array([0., 0., 0., 0., 1., 0., 0., 0., 0., 0.]),\n",
              "  array([0., 0., 0., 0., 1., 0., 0., 0., 0., 0.]),\n",
              "  array([0., 0., 0., 1., 0., 0., 0., 0., 0., 0.]),\n",
              "  array([0., 0., 0., 0., 1., 0., 0., 0., 0., 0.]),\n",
              "  array([0., 0., 0., 0., 0., 1., 0., 0., 0., 0.]),\n",
              "  array([0., 0., 0., 0., 1., 0., 0., 0., 0., 0.]),\n",
              "  array([0., 0., 0., 0., 0., 1., 0., 0., 0., 0.]),\n",
              "  array([0., 0., 0., 1., 0., 0., 0., 0., 0., 0.]),\n",
              "  array([0., 0., 0., 0., 0., 1., 0., 0., 0., 0.]),\n",
              "  array([0., 0., 0., 0., 0., 0., 1., 0., 0., 0.]),\n",
              "  array([0., 0., 1., 0., 0., 0., 0., 0., 0., 0.]),\n",
              "  array([0., 0., 0., 1., 0., 0., 0., 0., 0., 0.]),\n",
              "  array([0., 0., 0., 0., 0., 0., 0., 1., 0., 0.]),\n",
              "  array([0., 0., 0., 0., 1., 0., 0., 0., 0., 0.]),\n",
              "  array([0., 0., 0., 0., 0., 1., 0., 0., 0., 0.]),\n",
              "  array([0., 0., 0., 0., 0., 1., 0., 0., 0., 0.]),\n",
              "  array([0., 0., 0., 0., 0., 1., 0., 0., 0., 0.]),\n",
              "  array([0., 0., 0., 1., 0., 0., 0., 0., 0., 0.]),\n",
              "  array([0., 0., 0., 0., 0., 1., 0., 0., 0., 0.]),\n",
              "  array([0., 0., 0., 0., 1., 0., 0., 0., 0., 0.]),\n",
              "  array([0., 0., 0., 0., 1., 0., 0., 0., 0., 0.]),\n",
              "  array([0., 0., 0., 0., 0., 0., 1., 0., 0., 0.]),\n",
              "  array([0., 0., 0., 0., 0., 1., 0., 0., 0., 0.]),\n",
              "  array([0., 0., 0., 0., 1., 0., 0., 0., 0., 0.]),\n",
              "  array([0., 0., 0., 0., 0., 1., 0., 0., 0., 0.]),\n",
              "  array([0., 0., 0., 0., 0., 0., 1., 0., 0., 0.]),\n",
              "  array([0., 0., 1., 0., 0., 0., 0., 0., 0., 0.]),\n",
              "  array([0., 0., 0., 0., 0., 1., 0., 0., 0., 0.]),\n",
              "  array([0., 0., 0., 0., 1., 0., 0., 0., 0., 0.]),\n",
              "  array([0., 0., 0., 0., 0., 0., 1., 0., 0., 0.]),\n",
              "  array([0., 0., 0., 0., 0., 1., 0., 0., 0., 0.]),\n",
              "  array([0., 0., 0., 0., 1., 0., 0., 0., 0., 0.]),\n",
              "  array([0., 0., 0., 0., 0., 0., 1., 0., 0., 0.]),\n",
              "  array([0., 0., 0., 1., 0., 0., 0., 0., 0., 0.]),\n",
              "  array([0., 0., 0., 1., 0., 0., 0., 0., 0., 0.]),\n",
              "  array([0., 0., 0., 0., 0., 1., 0., 0., 0., 0.]),\n",
              "  array([0., 0., 0., 0., 1., 0., 0., 0., 0., 0.]),\n",
              "  array([0., 0., 0., 0., 0., 1., 0., 0., 0., 0.]),\n",
              "  array([0., 0., 1., 0., 0., 0., 0., 0., 0., 0.]),\n",
              "  array([0., 0., 0., 0., 0., 1., 0., 0., 0., 0.]),\n",
              "  array([0., 0., 0., 0., 0., 1., 0., 0., 0., 0.]),\n",
              "  array([0., 0., 0., 0., 0., 0., 1., 0., 0., 0.]),\n",
              "  array([0., 0., 0., 0., 0., 1., 0., 0., 0., 0.]),\n",
              "  array([0., 0., 0., 1., 0., 0., 0., 0., 0., 0.]),\n",
              "  array([0., 0., 0., 1., 0., 0., 0., 0., 0., 0.]),\n",
              "  array([0., 0., 0., 1., 0., 0., 0., 0., 0., 0.]),\n",
              "  array([0., 0., 0., 0., 1., 0., 0., 0., 0., 0.]),\n",
              "  array([0., 0., 1., 0., 0., 0., 0., 0., 0., 0.]),\n",
              "  array([0., 0., 0., 0., 0., 1., 0., 0., 0., 0.]),\n",
              "  array([0., 0., 0., 0., 0., 0., 1., 0., 0., 0.]),\n",
              "  array([0., 0., 0., 0., 0., 1., 0., 0., 0., 0.]),\n",
              "  array([0., 0., 0., 1., 0., 0., 0., 0., 0., 0.]),\n",
              "  array([0., 0., 0., 0., 1., 0., 0., 0., 0., 0.]),\n",
              "  array([0., 0., 0., 0., 1., 0., 0., 0., 0., 0.]),\n",
              "  array([0., 0., 0., 1., 0., 0., 0., 0., 0., 0.]),\n",
              "  array([0., 0., 0., 0., 1., 0., 0., 0., 0., 0.]),\n",
              "  array([0., 0., 0., 1., 0., 0., 0., 0., 0., 0.]),\n",
              "  array([0., 0., 0., 0., 0., 1., 0., 0., 0., 0.]),\n",
              "  array([0., 0., 0., 1., 0., 0., 0., 0., 0., 0.]),\n",
              "  array([0., 0., 0., 1., 0., 0., 0., 0., 0., 0.]),\n",
              "  array([0., 0., 0., 0., 1., 0., 0., 0., 0., 0.]),\n",
              "  array([0., 0., 0., 0., 0., 0., 0., 1., 0., 0.]),\n",
              "  array([0., 0., 0., 1., 0., 0., 0., 0., 0., 0.]),\n",
              "  array([0., 0., 0., 0., 0., 0., 1., 0., 0., 0.]),\n",
              "  array([0., 0., 0., 0., 0., 0., 1., 0., 0., 0.]),\n",
              "  array([0., 0., 0., 0., 1., 0., 0., 0., 0., 0.]),\n",
              "  array([0., 0., 0., 0., 1., 0., 0., 0., 0., 0.]),\n",
              "  array([0., 0., 0., 0., 1., 0., 0., 0., 0., 0.]),\n",
              "  array([0., 0., 0., 0., 1., 0., 0., 0., 0., 0.]),\n",
              "  array([0., 0., 0., 1., 0., 0., 0., 0., 0., 0.]),\n",
              "  array([0., 0., 0., 1., 0., 0., 0., 0., 0., 0.]),\n",
              "  array([0., 0., 0., 0., 0., 1., 0., 0., 0., 0.]),\n",
              "  array([0., 0., 0., 0., 0., 1., 0., 0., 0., 0.]),\n",
              "  array([0., 0., 0., 0., 1., 0., 0., 0., 0., 0.]),\n",
              "  array([0., 0., 0., 0., 0., 1., 0., 0., 0., 0.]),\n",
              "  array([0., 1., 0., 0., 0., 0., 0., 0., 0., 0.]),\n",
              "  array([0., 0., 0., 0., 1., 0., 0., 0., 0., 0.]),\n",
              "  array([0., 0., 0., 0., 0., 1., 0., 0., 0., 0.]),\n",
              "  array([0., 0., 0., 1., 0., 0., 0., 0., 0., 0.]),\n",
              "  array([0., 0., 0., 0., 0., 1., 0., 0., 0., 0.]),\n",
              "  array([0., 0., 0., 0., 0., 1., 0., 0., 0., 0.]),\n",
              "  array([0., 1., 0., 0., 0., 0., 0., 0., 0., 0.]),\n",
              "  array([0., 0., 0., 0., 1., 0., 0., 0., 0., 0.]),\n",
              "  array([0., 0., 0., 0., 1., 0., 0., 0., 0., 0.]),\n",
              "  array([0., 0., 0., 0., 0., 0., 1., 0., 0., 0.]),\n",
              "  array([0., 0., 1., 0., 0., 0., 0., 0., 0., 0.]),\n",
              "  array([0., 0., 0., 0., 0., 0., 1., 0., 0., 0.]),\n",
              "  array([0., 0., 0., 0., 1., 0., 0., 0., 0., 0.]),\n",
              "  array([0., 0., 0., 0., 0., 0., 1., 0., 0., 0.]),\n",
              "  array([0., 0., 0., 0., 0., 0., 1., 0., 0., 0.]),\n",
              "  array([0., 0., 0., 0., 0., 1., 0., 0., 0., 0.]),\n",
              "  array([0., 0., 1., 0., 0., 0., 0., 0., 0., 0.]),\n",
              "  array([0., 0., 0., 0., 1., 0., 0., 0., 0., 0.]),\n",
              "  array([0., 0., 0., 1., 0., 0., 0., 0., 0., 0.]),\n",
              "  array([0., 0., 0., 0., 0., 0., 1., 0., 0., 0.]),\n",
              "  array([0., 0., 1., 0., 0., 0., 0., 0., 0., 0.]),\n",
              "  array([0., 0., 0., 0., 0., 0., 0., 1., 0., 0.]),\n",
              "  array([0., 0., 0., 0., 0., 0., 1., 0., 0., 0.]),\n",
              "  array([0., 0., 0., 0., 0., 0., 1., 0., 0., 0.]),\n",
              "  array([0., 0., 0., 0., 0., 0., 1., 0., 0., 0.]),\n",
              "  array([0., 0., 0., 0., 1., 0., 0., 0., 0., 0.]),\n",
              "  array([0., 0., 0., 0., 0., 0., 1., 0., 0., 0.]),\n",
              "  array([0., 0., 0., 1., 0., 0., 0., 0., 0., 0.]),\n",
              "  array([0., 0., 0., 0., 1., 0., 0., 0., 0., 0.]),\n",
              "  array([0., 0., 0., 0., 1., 0., 0., 0., 0., 0.]),\n",
              "  array([0., 0., 0., 0., 1., 0., 0., 0., 0., 0.]),\n",
              "  array([0., 0., 0., 0., 0., 0., 1., 0., 0., 0.])],\n",
              " array([-234.22479822, -159.23661464,  -84.24843106,   -9.26024748,\n",
              "          65.7279361 ,  140.71611968,  215.70430326,  290.69248684,\n",
              "         365.68067042,  440.668854  ,  515.65703759]),\n",
              " <a list of 1000 Lists of Patches objects>)"
            ]
          },
          "metadata": {
            "tags": []
          },
          "execution_count": 46
        },
        {
          "output_type": "display_data",
          "data": {
            "image/png": "[encoded data removed]",
            "text/plain": [
              "<Figure size 432x288 with 1 Axes>"
            ]
          },
          "metadata": {
            "tags": []
          }
        }
      ]
    },
    {
      "cell_type": "markdown",
      "metadata": {
        "id": "tJ_X6jX9Je3J",
        "colab_type": "text"
      },
      "source": [
        "## Testing and training\n",
        "\n",
        "A grid like the one we created might contain some of the points we fit this model on. This is called **Data Contamination** and is a big no-no. If we want an independent estimate of the error, we should hold out some points in a test set."
      ]
    },
    {
      "cell_type": "code",
      "metadata": {
        "id": "2ZBAqBOsJe3N",
        "colab_type": "code",
        "colab": {}
      },
      "source": [
        "from sklearn.model_selection import train_test_split"
      ],
      "execution_count": 0,
      "outputs": []
    },
    {
      "cell_type": "code",
      "metadata": {
        "id": "ulmKcFV8Je3f",
        "colab_type": "code",
        "colab": {}
      },
      "source": [
        "Xtrain, Xtest, ytrain, ytest = train_test_split(X, y, test_size=0.2, random_state=2017)"
      ],
      "execution_count": 0,
      "outputs": []
    },
    {
      "cell_type": "markdown",
      "metadata": {
        "id": "eICt69dBJe3u",
        "colab_type": "text"
      },
      "source": [
        "Now lets fit the model on the training set and evaluate it both on the training set and the test set. We print the R^2"
      ]
    },
    {
      "cell_type": "code",
      "metadata": {
        "id": "7m3qMw05Je3y",
        "colab_type": "code",
        "colab": {}
      },
      "source": [
        "lr2 = LinearRegression().fit(Xtrain, ytrain)\n",
        "r2_test = r2_score(ytest, lr.predict(Xtest))\n",
        "r2_train = r2_score(ytrain, lr.predict(Xtrain))"
      ],
      "execution_count": 0,
      "outputs": []
    },
    {
      "cell_type": "code",
      "metadata": {
        "id": "P6uRpJhvJe3-",
        "colab_type": "code",
        "colab": {}
      },
      "source": [
        "\"Train R2 is {}, while test R^2 is {}\".format(r2_train, r2_test)"
      ],
      "execution_count": 0,
      "outputs": []
    },
    {
      "cell_type": "markdown",
      "metadata": {
        "id": "miOGnLMPJe4L",
        "colab_type": "text"
      },
      "source": [
        "## Using Keras to fit the model\n",
        "\n",
        "We'll use plain and simple gradient descent (why?) and Keras's Sequential API"
      ]
    },
    {
      "cell_type": "code",
      "metadata": {
        "id": "dmku_4qSJe4O",
        "colab_type": "code",
        "colab": {}
      },
      "source": [
        "from keras.models import Sequential\n",
        "from keras.layers import Dense\n",
        "lr3 = Sequential()\n",
        "lr3.add(Dense(1, input_shape=(1,)))\n",
        "lr3.compile(optimizer='sgd', loss='mean_squared_error',  metrics=['mae','accuracy'])\n",
        "lr3.summary()"
      ],
      "execution_count": 0,
      "outputs": []
    },
    {
      "cell_type": "code",
      "metadata": {
        "id": "7KhrMRUoJe4b",
        "colab_type": "code",
        "colab": {}
      },
      "source": [
        "history = lr3.fit(Xtrain, ytrain, epochs=400, batch_size=80)"
      ],
      "execution_count": 0,
      "outputs": []
    },
    {
      "cell_type": "code",
      "metadata": {
        "id": "xdbwW5UBJe4m",
        "colab_type": "code",
        "colab": {}
      },
      "source": [
        "plt.plot(history.history['loss'])"
      ],
      "execution_count": 0,
      "outputs": []
    },
    {
      "cell_type": "code",
      "metadata": {
        "id": "aGnsX_tdJe44",
        "colab_type": "code",
        "colab": {}
      },
      "source": [
        "lr3.get_weights()"
      ],
      "execution_count": 0,
      "outputs": []
    },
    {
      "cell_type": "markdown",
      "metadata": {
        "id": "OBIMWtSuJe5A",
        "colab_type": "text"
      },
      "source": [
        "### Using the Keras Functional API\n",
        "\n"
      ]
    },
    {
      "cell_type": "code",
      "metadata": {
        "id": "y6DEz8WRJe5E",
        "colab_type": "code",
        "colab": {}
      },
      "source": [
        "from keras.layers import Input, Dense\n",
        "from keras.models import Model\n",
        "\n",
        "inputs_placeholder = Input(shape=(1,))\n",
        "outputs_placeholder = Dense(1, activation='linear')(inputs_placeholder)\n",
        "\n",
        "m = Model(inputs=inputs_placeholder, outputs=outputs_placeholder)\n",
        "m.compile(optimizer='sgd', loss='mean_squared_error',  metrics=['mae','accuracy'])\n",
        "m.summary()"
      ],
      "execution_count": 0,
      "outputs": []
    },
    {
      "cell_type": "code",
      "metadata": {
        "id": "vJrjjKkKJe5O",
        "colab_type": "code",
        "colab": {}
      },
      "source": [
        "history2 = m.fit(Xtrain, ytrain, epochs=250, batch_size=80)"
      ],
      "execution_count": 0,
      "outputs": []
    },
    {
      "cell_type": "code",
      "metadata": {
        "id": "DKjGcyZOJe5c",
        "colab_type": "code",
        "colab": {}
      },
      "source": [
        "m.get_weights()"
      ],
      "execution_count": 0,
      "outputs": []
    }
  ]
}